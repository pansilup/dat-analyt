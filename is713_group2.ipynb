{
  "nbformat": 4,
  "nbformat_minor": 0,
  "metadata": {
    "colab": {
      "name": "is713_group2.ipynb",
      "provenance": [],
      "collapsed_sections": [],
      "include_colab_link": true
    },
    "kernelspec": {
      "display_name": "Python 3",
      "name": "python3"
    },
    "language_info": {
      "name": "python"
    }
  },
  "cells": [
    {
      "cell_type": "markdown",
      "metadata": {
        "id": "view-in-github",
        "colab_type": "text"
      },
      "source": [
        "<a href=\"https://colab.research.google.com/github/pansilup/is713_grp2/blob/master/is713_group2.ipynb\" target=\"_parent\"><img src=\"https://colab.research.google.com/assets/colab-badge.svg\" alt=\"Open In Colab\"/></a>"
      ]
    },
    {
      "cell_type": "markdown",
      "metadata": {
        "id": "iTlOtAYIWAqo"
      },
      "source": [
        "# IS 713 Group 2"
      ]
    },
    {
      "cell_type": "markdown",
      "metadata": {
        "id": "onkYivdRYUWx"
      },
      "source": [
        "## 1. Introduction"
      ]
    },
    {
      "cell_type": "code",
      "metadata": {
        "colab": {
          "base_uri": "https://localhost:8080/",
          "height": 423
        },
        "id": "kBEzAqmJM20F",
        "outputId": "aca569ae-da1a-4154-973a-58092b3cc63c"
      },
      "source": [
        "# add the EDA of the data\n",
        "from google.colab import auth\n",
        "auth.authenticate_user()\n",
        "import gspread\n",
        "from oauth2client.client import GoogleCredentials\n",
        "gc = gspread.authorize(GoogleCredentials.get_application_default())\n",
        "\n",
        "wb = gc.open_by_url('https://docs.google.com/spreadsheets/d/1oQQAU542s8wPHNJNmNBICaMDh75AiXBVPJagODpWz4Q/edit#gid=1250765839')\n",
        "sheet = wb.worksheet('final_dataset')\n",
        "data = sheet.get_all_values()\n",
        "\n",
        "import pandas as pd\n",
        "import numpy as np\n",
        "import matplotlib.pyplot as plt\n",
        "df = pd.DataFrame(data)\n",
        "df.columns = df.iloc[0]\n",
        "df = df.iloc[1:]\n",
        "# df[\"year\"] = pd.to_numeric(df[\"year\"])\n",
        "df.replace('', np.nan, inplace=True)\n",
        "df.dropna(inplace=True)\n",
        "df.reset_index(drop=True,inplace=True)\n",
        "\n",
        "df['consumer_price_index'] = df['consumer_price_index'].astype('float32')\n",
        "df"
      ],
      "execution_count": null,
      "outputs": [
        {
          "output_type": "execute_result",
          "data": {
            "text/html": [
              "<div>\n",
              "<style scoped>\n",
              "    .dataframe tbody tr th:only-of-type {\n",
              "        vertical-align: middle;\n",
              "    }\n",
              "\n",
              "    .dataframe tbody tr th {\n",
              "        vertical-align: top;\n",
              "    }\n",
              "\n",
              "    .dataframe thead th {\n",
              "        text-align: right;\n",
              "    }\n",
              "</style>\n",
              "<table border=\"1\" class=\"dataframe\">\n",
              "  <thead>\n",
              "    <tr style=\"text-align: right;\">\n",
              "      <th></th>\n",
              "      <th>no</th>\n",
              "      <th>country</th>\n",
              "      <th>year</th>\n",
              "      <th>fertility_rate</th>\n",
              "      <th>consumer_price_index</th>\n",
              "      <th>female-labourFrc-percentage</th>\n",
              "      <th>dragon_year</th>\n",
              "      <th>tiger_year</th>\n",
              "      <th>chinese_prominance</th>\n",
              "    </tr>\n",
              "  </thead>\n",
              "  <tbody>\n",
              "    <tr>\n",
              "      <th>0</th>\n",
              "      <td>1</td>\n",
              "      <td>Singapore</td>\n",
              "      <td>1990</td>\n",
              "      <td>1.83</td>\n",
              "      <td>71.816734</td>\n",
              "      <td>37.5420903</td>\n",
              "      <td>0</td>\n",
              "      <td>0</td>\n",
              "      <td>1</td>\n",
              "    </tr>\n",
              "    <tr>\n",
              "      <th>1</th>\n",
              "      <td>1</td>\n",
              "      <td>Singapore</td>\n",
              "      <td>1991</td>\n",
              "      <td>1.73</td>\n",
              "      <td>74.276962</td>\n",
              "      <td>37.6152636</td>\n",
              "      <td>0</td>\n",
              "      <td>0</td>\n",
              "      <td>1</td>\n",
              "    </tr>\n",
              "    <tr>\n",
              "      <th>2</th>\n",
              "      <td>1</td>\n",
              "      <td>Singapore</td>\n",
              "      <td>1992</td>\n",
              "      <td>1.72</td>\n",
              "      <td>75.957901</td>\n",
              "      <td>37.732357</td>\n",
              "      <td>0</td>\n",
              "      <td>0</td>\n",
              "      <td>1</td>\n",
              "    </tr>\n",
              "    <tr>\n",
              "      <th>3</th>\n",
              "      <td>1</td>\n",
              "      <td>Singapore</td>\n",
              "      <td>1993</td>\n",
              "      <td>1.74</td>\n",
              "      <td>77.696808</td>\n",
              "      <td>38.0359161</td>\n",
              "      <td>0</td>\n",
              "      <td>0</td>\n",
              "      <td>1</td>\n",
              "    </tr>\n",
              "    <tr>\n",
              "      <th>4</th>\n",
              "      <td>1</td>\n",
              "      <td>Singapore</td>\n",
              "      <td>1994</td>\n",
              "      <td>1.71</td>\n",
              "      <td>80.105507</td>\n",
              "      <td>38.1750817</td>\n",
              "      <td>0</td>\n",
              "      <td>0</td>\n",
              "      <td>1</td>\n",
              "    </tr>\n",
              "    <tr>\n",
              "      <th>...</th>\n",
              "      <td>...</td>\n",
              "      <td>...</td>\n",
              "      <td>...</td>\n",
              "      <td>...</td>\n",
              "      <td>...</td>\n",
              "      <td>...</td>\n",
              "      <td>...</td>\n",
              "      <td>...</td>\n",
              "      <td>...</td>\n",
              "    </tr>\n",
              "    <tr>\n",
              "      <th>265</th>\n",
              "      <td>9</td>\n",
              "      <td>Myanmar</td>\n",
              "      <td>2015</td>\n",
              "      <td>2.198</td>\n",
              "      <td>129.322678</td>\n",
              "      <td>41.6164699</td>\n",
              "      <td>0</td>\n",
              "      <td>0</td>\n",
              "      <td>0</td>\n",
              "    </tr>\n",
              "    <tr>\n",
              "      <th>266</th>\n",
              "      <td>9</td>\n",
              "      <td>Myanmar</td>\n",
              "      <td>2016</td>\n",
              "      <td>2.182</td>\n",
              "      <td>138.283218</td>\n",
              "      <td>41.100912</td>\n",
              "      <td>0</td>\n",
              "      <td>0</td>\n",
              "      <td>0</td>\n",
              "    </tr>\n",
              "    <tr>\n",
              "      <th>267</th>\n",
              "      <td>9</td>\n",
              "      <td>Myanmar</td>\n",
              "      <td>2017</td>\n",
              "      <td>2.168</td>\n",
              "      <td>144.606262</td>\n",
              "      <td>40.5913159</td>\n",
              "      <td>0</td>\n",
              "      <td>0</td>\n",
              "      <td>0</td>\n",
              "    </tr>\n",
              "    <tr>\n",
              "      <th>268</th>\n",
              "      <td>9</td>\n",
              "      <td>Myanmar</td>\n",
              "      <td>2018</td>\n",
              "      <td>2.154</td>\n",
              "      <td>154.544083</td>\n",
              "      <td>41.0267118</td>\n",
              "      <td>0</td>\n",
              "      <td>0</td>\n",
              "      <td>0</td>\n",
              "    </tr>\n",
              "    <tr>\n",
              "      <th>269</th>\n",
              "      <td>9</td>\n",
              "      <td>Myanmar</td>\n",
              "      <td>2019</td>\n",
              "      <td>2.138</td>\n",
              "      <td>168.182693</td>\n",
              "      <td>40.221261</td>\n",
              "      <td>0</td>\n",
              "      <td>0</td>\n",
              "      <td>0</td>\n",
              "    </tr>\n",
              "  </tbody>\n",
              "</table>\n",
              "<p>270 rows × 9 columns</p>\n",
              "</div>"
            ],
            "text/plain": [
              "0   no    country  year  ... dragon_year  tiger_year chinese_prominance\n",
              "0    1  Singapore  1990  ...           0           0                  1\n",
              "1    1  Singapore  1991  ...           0           0                  1\n",
              "2    1  Singapore  1992  ...           0           0                  1\n",
              "3    1  Singapore  1993  ...           0           0                  1\n",
              "4    1  Singapore  1994  ...           0           0                  1\n",
              "..  ..        ...   ...  ...         ...         ...                ...\n",
              "265  9    Myanmar  2015  ...           0           0                  0\n",
              "266  9    Myanmar  2016  ...           0           0                  0\n",
              "267  9    Myanmar  2017  ...           0           0                  0\n",
              "268  9    Myanmar  2018  ...           0           0                  0\n",
              "269  9    Myanmar  2019  ...           0           0                  0\n",
              "\n",
              "[270 rows x 9 columns]"
            ]
          },
          "metadata": {},
          "execution_count": 75
        }
      ]
    },
    {
      "cell_type": "code",
      "metadata": {
        "id": "_KhK3Af1M8u6"
      },
      "source": [
        "!pip install --upgrade plotly\n",
        "!pip install jupyter-dash\n",
        "\n",
        "import plotly\n",
        "plotly.__version__"
      ],
      "execution_count": null,
      "outputs": []
    },
    {
      "cell_type": "code",
      "metadata": {
        "colab": {
          "base_uri": "https://localhost:8080/",
          "height": 542
        },
        "id": "x71SiqPGiN_n",
        "outputId": "a0bee052-b1db-4728-9772-30b7e529f82e"
      },
      "source": [
        "import plotly.express as px\n",
        "fig = px.line(df, x=\"year\", y=\"fertility_rate\", color=\"country\")\n",
        "fig.show()"
      ],
      "execution_count": null,
      "outputs": [
        {
          "output_type": "display_data",
          "data": {
            "text/html": [
              "<html>\n",
              "<head><meta charset=\"utf-8\" /></head>\n",
              "<body>\n",
              "    <div>\n",
              "            <script src=\"https://cdnjs.cloudflare.com/ajax/libs/mathjax/2.7.5/MathJax.js?config=TeX-AMS-MML_SVG\"></script><script type=\"text/javascript\">if (window.MathJax) {MathJax.Hub.Config({SVG: {font: \"STIX-Web\"}});}</script>\n",
              "                <script type=\"text/javascript\">window.PlotlyConfig = {MathJaxConfig: 'local'};</script>\n",
              "        <script src=\"https://cdn.plot.ly/plotly-latest.min.js\"></script>    \n",
              "            <div id=\"87601f0e-6c4a-427c-8edc-b963694e7010\" class=\"plotly-graph-div\" style=\"height:525px; width:100%;\"></div>\n",
              "            <script type=\"text/javascript\">\n",
              "                \n",
              "                    window.PLOTLYENV=window.PLOTLYENV || {};\n",
              "                    \n",
              "                if (document.getElementById(\"87601f0e-6c4a-427c-8edc-b963694e7010\")) {\n",
              "                    Plotly.newPlot(\n",
              "                        '87601f0e-6c4a-427c-8edc-b963694e7010',\n",
              "                        [{\"hoverlabel\": {\"namelength\": 0}, \"hovertemplate\": \"country=Singapore<br>year=%{x}<br>fertility_rate=%{y}\", \"legendgroup\": \"country=Singapore\", \"line\": {\"color\": \"#636efa\", \"dash\": \"solid\"}, \"mode\": \"lines\", \"name\": \"country=Singapore\", \"showlegend\": true, \"type\": \"scatter\", \"x\": [\"1990\", \"1991\", \"1992\", \"1993\", \"1994\", \"1995\", \"1996\", \"1997\", \"1998\", \"1999\", \"2000\", \"2001\", \"2002\", \"2003\", \"2004\", \"2005\", \"2006\", \"2007\", \"2008\", \"2009\", \"2010\", \"2011\", \"2012\", \"2013\", \"2014\", \"2015\", \"2016\", \"2017\", \"2018\", \"2019\"], \"xaxis\": \"x\", \"y\": [\"1.83\", \"1.73\", \"1.72\", \"1.74\", \"1.71\", \"1.67\", \"1.66\", \"1.61\", \"1.48\", \"1.47\", \"1.6\", \"1.41\", \"1.37\", \"1.27\", \"1.26\", \"1.26\", \"1.28\", \"1.29\", \"1.28\", \"1.22\", \"1.15\", \"1.2\", \"1.29\", \"1.19\", \"1.25\", \"1.24\", \"1.2\", \"1.16\", \"1.14\", \"1.14\"], \"yaxis\": \"y\"}, {\"hoverlabel\": {\"namelength\": 0}, \"hovertemplate\": \"country=Japan<br>year=%{x}<br>fertility_rate=%{y}\", \"legendgroup\": \"country=Japan\", \"line\": {\"color\": \"#EF553B\", \"dash\": \"solid\"}, \"mode\": \"lines\", \"name\": \"country=Japan\", \"showlegend\": true, \"type\": \"scatter\", \"x\": [\"1990\", \"1991\", \"1992\", \"1993\", \"1994\", \"1995\", \"1996\", \"1997\", \"1998\", \"1999\", \"2000\", \"2001\", \"2002\", \"2003\", \"2004\", \"2005\", \"2006\", \"2007\", \"2008\", \"2009\", \"2010\", \"2011\", \"2012\", \"2013\", \"2014\", \"2015\", \"2016\", \"2017\", \"2018\", \"2019\"], \"xaxis\": \"x\", \"y\": [\"1.54\", \"1.53\", \"1.502\", \"1.458\", \"1.5\", \"1.422\", \"1.425\", \"1.388\", \"1.384\", \"1.342\", \"1.359\", \"1.33\", \"1.32\", \"1.29\", \"1.29\", \"1.26\", \"1.32\", \"1.34\", \"1.37\", \"1.37\", \"1.39\", \"1.39\", \"1.41\", \"1.43\", \"1.42\", \"1.45\", \"1.44\", \"1.43\", \"1.42\", \"1.36\"], \"yaxis\": \"y\"}, {\"hoverlabel\": {\"namelength\": 0}, \"hovertemplate\": \"country=South Korea<br>year=%{x}<br>fertility_rate=%{y}\", \"legendgroup\": \"country=South Korea\", \"line\": {\"color\": \"#00cc96\", \"dash\": \"solid\"}, \"mode\": \"lines\", \"name\": \"country=South Korea\", \"showlegend\": true, \"type\": \"scatter\", \"x\": [\"1990\", \"1991\", \"1992\", \"1993\", \"1994\", \"1995\", \"1996\", \"1997\", \"1998\", \"1999\", \"2000\", \"2001\", \"2002\", \"2003\", \"2004\", \"2005\", \"2006\", \"2007\", \"2008\", \"2009\", \"2010\", \"2011\", \"2012\", \"2013\", \"2014\", \"2015\", \"2016\", \"2017\", \"2018\", \"2019\"], \"xaxis\": \"x\", \"y\": [\"1.57\", \"1.71\", \"1.76\", \"1.654\", \"1.656\", \"1.634\", \"1.574\", \"1.537\", \"1.464\", \"1.425\", \"1.48\", \"1.309\", \"1.178\", \"1.191\", \"1.164\", \"1.085\", \"1.132\", \"1.259\", \"1.192\", \"1.149\", \"1.226\", \"1.244\", \"1.297\", \"1.187\", \"1.205\", \"1.239\", \"1.172\", \"1.052\", \"0.977\", \"0.918\"], \"yaxis\": \"y\"}, {\"hoverlabel\": {\"namelength\": 0}, \"hovertemplate\": \"country=Malaysia<br>year=%{x}<br>fertility_rate=%{y}\", \"legendgroup\": \"country=Malaysia\", \"line\": {\"color\": \"#ab63fa\", \"dash\": \"solid\"}, \"mode\": \"lines\", \"name\": \"country=Malaysia\", \"showlegend\": true, \"type\": \"scatter\", \"x\": [\"1990\", \"1991\", \"1992\", \"1993\", \"1994\", \"1995\", \"1996\", \"1997\", \"1998\", \"1999\", \"2000\", \"2001\", \"2002\", \"2003\", \"2004\", \"2005\", \"2006\", \"2007\", \"2008\", \"2009\", \"2010\", \"2011\", \"2012\", \"2013\", \"2014\", \"2015\", \"2016\", \"2017\", \"2018\", \"2019\"], \"xaxis\": \"x\", \"y\": [\"3.554\", \"3.51\", \"3.466\", \"3.422\", \"3.372\", \"3.313\", \"3.238\", \"3.145\", \"3.036\", \"2.913\", \"2.784\", \"2.657\", \"2.539\", \"2.438\", \"2.355\", \"2.293\", \"2.249\", \"2.217\", \"2.191\", \"2.169\", \"2.149\", \"2.129\", \"2.11\", \"2.092\", \"2.074\", \"2.056\", \"2.037\", \"2.019\", \"2.001\", \"1.983\"], \"yaxis\": \"y\"}, {\"hoverlabel\": {\"namelength\": 0}, \"hovertemplate\": \"country=Philippines<br>year=%{x}<br>fertility_rate=%{y}\", \"legendgroup\": \"country=Philippines\", \"line\": {\"color\": \"#FFA15A\", \"dash\": \"solid\"}, \"mode\": \"lines\", \"name\": \"country=Philippines\", \"showlegend\": true, \"type\": \"scatter\", \"x\": [\"1990\", \"1991\", \"1992\", \"1993\", \"1994\", \"1995\", \"1996\", \"1997\", \"1998\", \"1999\", \"2000\", \"2001\", \"2002\", \"2003\", \"2004\", \"2005\", \"2006\", \"2007\", \"2008\", \"2009\", \"2010\", \"2011\", \"2012\", \"2013\", \"2014\", \"2015\", \"2016\", \"2017\", \"2018\", \"2019\"], \"xaxis\": \"x\", \"y\": [\"4.32\", \"4.246\", \"4.177\", \"4.113\", \"4.056\", \"4.005\", \"3.961\", \"3.922\", \"3.886\", \"3.85\", \"3.811\", \"3.766\", \"3.712\", \"3.65\", \"3.579\", \"3.504\", \"3.429\", \"3.359\", \"3.294\", \"3.236\", \"3.18\", \"3.121\", \"3.055\", \"2.979\", \"2.894\", \"2.805\", \"2.718\", \"2.64\", \"2.576\", \"2.526\"], \"yaxis\": \"y\"}, {\"hoverlabel\": {\"namelength\": 0}, \"hovertemplate\": \"country=Indonesia<br>year=%{x}<br>fertility_rate=%{y}\", \"legendgroup\": \"country=Indonesia\", \"line\": {\"color\": \"#19d3f3\", \"dash\": \"solid\"}, \"mode\": \"lines\", \"name\": \"country=Indonesia\", \"showlegend\": true, \"type\": \"scatter\", \"x\": [\"1990\", \"1991\", \"1992\", \"1993\", \"1994\", \"1995\", \"1996\", \"1997\", \"1998\", \"1999\", \"2000\", \"2001\", \"2002\", \"2003\", \"2004\", \"2005\", \"2006\", \"2007\", \"2008\", \"2009\", \"2010\", \"2011\", \"2012\", \"2013\", \"2014\", \"2015\", \"2016\", \"2017\", \"2018\", \"2019\"], \"xaxis\": \"x\", \"y\": [\"3.122\", \"3.022\", \"2.929\", \"2.842\", \"2.761\", \"2.688\", \"2.627\", \"2.579\", \"2.544\", \"2.523\", \"2.512\", \"2.509\", \"2.511\", \"2.513\", \"2.515\", \"2.514\", \"2.51\", \"2.505\", \"2.499\", \"2.492\", \"2.483\", \"2.471\", \"2.455\", \"2.436\", \"2.413\", \"2.389\", \"2.362\", \"2.336\", \"2.311\", \"2.288\"], \"yaxis\": \"y\"}, {\"hoverlabel\": {\"namelength\": 0}, \"hovertemplate\": \"country=Hong Kong SAR, China<br>year=%{x}<br>fertility_rate=%{y}\", \"legendgroup\": \"country=Hong Kong SAR, China\", \"line\": {\"color\": \"#FF6692\", \"dash\": \"solid\"}, \"mode\": \"lines\", \"name\": \"country=Hong Kong SAR, China\", \"showlegend\": true, \"type\": \"scatter\", \"x\": [\"1990\", \"1991\", \"1992\", \"1993\", \"1994\", \"1995\", \"1996\", \"1997\", \"1998\", \"1999\", \"2000\", \"2001\", \"2002\", \"2003\", \"2004\", \"2005\", \"2006\", \"2007\", \"2008\", \"2009\", \"2010\", \"2011\", \"2012\", \"2013\", \"2014\", \"2015\", \"2016\", \"2017\", \"2018\", \"2019\"], \"xaxis\": \"x\", \"y\": [\"1.272\", \"1.281\", \"1.347\", \"1.342\", \"1.355\", \"1.295\", \"1.191\", \"1.127\", \"1.016\", \"0.981\", \"1.032\", \"0.931\", \"0.941\", \"0.901\", \"0.922\", \"0.959\", \"0.984\", \"1.028\", \"1.064\", \"1.055\", \"1.127\", \"1.204\", \"1.285\", \"1.125\", \"1.235\", \"1.196\", \"1.205\", \"1.125\", \"1.072\", \"1.051\"], \"yaxis\": \"y\"}, {\"hoverlabel\": {\"namelength\": 0}, \"hovertemplate\": \"country=China<br>year=%{x}<br>fertility_rate=%{y}\", \"legendgroup\": \"country=China\", \"line\": {\"color\": \"#B6E880\", \"dash\": \"solid\"}, \"mode\": \"lines\", \"name\": \"country=China\", \"showlegend\": true, \"type\": \"scatter\", \"x\": [\"1990\", \"1991\", \"1992\", \"1993\", \"1994\", \"1995\", \"1996\", \"1997\", \"1998\", \"1999\", \"2000\", \"2001\", \"2002\", \"2003\", \"2004\", \"2005\", \"2006\", \"2007\", \"2008\", \"2009\", \"2010\", \"2011\", \"2012\", \"2013\", \"2014\", \"2015\", \"2016\", \"2017\", \"2018\", \"2019\"], \"xaxis\": \"x\", \"y\": [\"2.309\", \"2.14\", \"1.977\", \"1.838\", \"1.731\", \"1.66\", \"1.622\", \"1.605\", \"1.597\", \"1.595\", \"1.596\", \"1.597\", \"1.6\", \"1.604\", \"1.608\", \"1.612\", \"1.615\", \"1.617\", \"1.62\", \"1.623\", \"1.627\", \"1.632\", \"1.639\", \"1.647\", \"1.656\", \"1.665\", \"1.675\", \"1.683\", \"1.69\", \"1.696\"], \"yaxis\": \"y\"}, {\"hoverlabel\": {\"namelength\": 0}, \"hovertemplate\": \"country=Myanmar<br>year=%{x}<br>fertility_rate=%{y}\", \"legendgroup\": \"country=Myanmar\", \"line\": {\"color\": \"#FF97FF\", \"dash\": \"solid\"}, \"mode\": \"lines\", \"name\": \"country=Myanmar\", \"showlegend\": true, \"type\": \"scatter\", \"x\": [\"1990\", \"1991\", \"1992\", \"1993\", \"1994\", \"1995\", \"1996\", \"1997\", \"1998\", \"1999\", \"2000\", \"2001\", \"2002\", \"2003\", \"2004\", \"2005\", \"2006\", \"2007\", \"2008\", \"2009\", \"2010\", \"2011\", \"2012\", \"2013\", \"2014\", \"2015\", \"2016\", \"2017\", \"2018\", \"2019\"], \"xaxis\": \"x\", \"y\": [\"3.447\", \"3.338\", \"3.244\", \"3.164\", \"3.097\", \"3.042\", \"2.998\", \"2.963\", \"2.933\", \"2.906\", \"2.878\", \"2.845\", \"2.807\", \"2.763\", \"2.713\", \"2.657\", \"2.596\", \"2.533\", \"2.471\", \"2.412\", \"2.359\", \"2.312\", \"2.274\", \"2.242\", \"2.217\", \"2.198\", \"2.182\", \"2.168\", \"2.154\", \"2.138\"], \"yaxis\": \"y\"}],\n",
              "                        {\"legend\": {\"tracegroupgap\": 0}, \"margin\": {\"t\": 60}, \"template\": {\"data\": {\"bar\": [{\"error_x\": {\"color\": \"#2a3f5f\"}, \"error_y\": {\"color\": \"#2a3f5f\"}, \"marker\": {\"line\": {\"color\": \"#E5ECF6\", \"width\": 0.5}}, \"type\": \"bar\"}], \"barpolar\": [{\"marker\": {\"line\": {\"color\": \"#E5ECF6\", \"width\": 0.5}}, \"type\": \"barpolar\"}], \"carpet\": [{\"aaxis\": {\"endlinecolor\": \"#2a3f5f\", \"gridcolor\": \"white\", \"linecolor\": \"white\", \"minorgridcolor\": \"white\", \"startlinecolor\": \"#2a3f5f\"}, \"baxis\": {\"endlinecolor\": \"#2a3f5f\", \"gridcolor\": \"white\", \"linecolor\": \"white\", \"minorgridcolor\": \"white\", \"startlinecolor\": \"#2a3f5f\"}, \"type\": \"carpet\"}], \"choropleth\": [{\"colorbar\": {\"outlinewidth\": 0, \"ticks\": \"\"}, \"type\": \"choropleth\"}], \"contour\": [{\"colorbar\": {\"outlinewidth\": 0, \"ticks\": \"\"}, \"colorscale\": [[0.0, \"#0d0887\"], [0.1111111111111111, \"#46039f\"], [0.2222222222222222, \"#7201a8\"], [0.3333333333333333, \"#9c179e\"], [0.4444444444444444, \"#bd3786\"], [0.5555555555555556, \"#d8576b\"], [0.6666666666666666, \"#ed7953\"], [0.7777777777777778, \"#fb9f3a\"], [0.8888888888888888, \"#fdca26\"], [1.0, \"#f0f921\"]], \"type\": \"contour\"}], \"contourcarpet\": [{\"colorbar\": {\"outlinewidth\": 0, \"ticks\": \"\"}, \"type\": \"contourcarpet\"}], \"heatmap\": [{\"colorbar\": {\"outlinewidth\": 0, \"ticks\": \"\"}, \"colorscale\": [[0.0, \"#0d0887\"], [0.1111111111111111, \"#46039f\"], [0.2222222222222222, \"#7201a8\"], [0.3333333333333333, \"#9c179e\"], [0.4444444444444444, \"#bd3786\"], [0.5555555555555556, \"#d8576b\"], [0.6666666666666666, \"#ed7953\"], [0.7777777777777778, \"#fb9f3a\"], [0.8888888888888888, \"#fdca26\"], [1.0, \"#f0f921\"]], \"type\": \"heatmap\"}], \"heatmapgl\": [{\"colorbar\": {\"outlinewidth\": 0, \"ticks\": \"\"}, \"colorscale\": [[0.0, \"#0d0887\"], [0.1111111111111111, \"#46039f\"], [0.2222222222222222, \"#7201a8\"], [0.3333333333333333, \"#9c179e\"], [0.4444444444444444, \"#bd3786\"], [0.5555555555555556, \"#d8576b\"], [0.6666666666666666, \"#ed7953\"], [0.7777777777777778, \"#fb9f3a\"], [0.8888888888888888, \"#fdca26\"], [1.0, \"#f0f921\"]], \"type\": \"heatmapgl\"}], \"histogram\": [{\"marker\": {\"colorbar\": {\"outlinewidth\": 0, \"ticks\": \"\"}}, \"type\": \"histogram\"}], \"histogram2d\": [{\"colorbar\": {\"outlinewidth\": 0, \"ticks\": \"\"}, \"colorscale\": [[0.0, \"#0d0887\"], [0.1111111111111111, \"#46039f\"], [0.2222222222222222, \"#7201a8\"], [0.3333333333333333, \"#9c179e\"], [0.4444444444444444, \"#bd3786\"], [0.5555555555555556, \"#d8576b\"], [0.6666666666666666, \"#ed7953\"], [0.7777777777777778, \"#fb9f3a\"], [0.8888888888888888, \"#fdca26\"], [1.0, \"#f0f921\"]], \"type\": \"histogram2d\"}], \"histogram2dcontour\": [{\"colorbar\": {\"outlinewidth\": 0, \"ticks\": \"\"}, \"colorscale\": [[0.0, \"#0d0887\"], [0.1111111111111111, \"#46039f\"], [0.2222222222222222, \"#7201a8\"], [0.3333333333333333, \"#9c179e\"], [0.4444444444444444, \"#bd3786\"], [0.5555555555555556, \"#d8576b\"], [0.6666666666666666, \"#ed7953\"], [0.7777777777777778, \"#fb9f3a\"], [0.8888888888888888, \"#fdca26\"], [1.0, \"#f0f921\"]], \"type\": \"histogram2dcontour\"}], \"mesh3d\": [{\"colorbar\": {\"outlinewidth\": 0, \"ticks\": \"\"}, \"type\": \"mesh3d\"}], \"parcoords\": [{\"line\": {\"colorbar\": {\"outlinewidth\": 0, \"ticks\": \"\"}}, \"type\": \"parcoords\"}], \"pie\": [{\"automargin\": true, \"type\": \"pie\"}], \"scatter\": [{\"marker\": {\"colorbar\": {\"outlinewidth\": 0, \"ticks\": \"\"}}, \"type\": \"scatter\"}], \"scatter3d\": [{\"line\": {\"colorbar\": {\"outlinewidth\": 0, \"ticks\": \"\"}}, \"marker\": {\"colorbar\": {\"outlinewidth\": 0, \"ticks\": \"\"}}, \"type\": \"scatter3d\"}], \"scattercarpet\": [{\"marker\": {\"colorbar\": {\"outlinewidth\": 0, \"ticks\": \"\"}}, \"type\": \"scattercarpet\"}], \"scattergeo\": [{\"marker\": {\"colorbar\": {\"outlinewidth\": 0, \"ticks\": \"\"}}, \"type\": \"scattergeo\"}], \"scattergl\": [{\"marker\": {\"colorbar\": {\"outlinewidth\": 0, \"ticks\": \"\"}}, \"type\": \"scattergl\"}], \"scattermapbox\": [{\"marker\": {\"colorbar\": {\"outlinewidth\": 0, \"ticks\": \"\"}}, \"type\": \"scattermapbox\"}], \"scatterpolar\": [{\"marker\": {\"colorbar\": {\"outlinewidth\": 0, \"ticks\": \"\"}}, \"type\": \"scatterpolar\"}], \"scatterpolargl\": [{\"marker\": {\"colorbar\": {\"outlinewidth\": 0, \"ticks\": \"\"}}, \"type\": \"scatterpolargl\"}], \"scatterternary\": [{\"marker\": {\"colorbar\": {\"outlinewidth\": 0, \"ticks\": \"\"}}, \"type\": \"scatterternary\"}], \"surface\": [{\"colorbar\": {\"outlinewidth\": 0, \"ticks\": \"\"}, \"colorscale\": [[0.0, \"#0d0887\"], [0.1111111111111111, \"#46039f\"], [0.2222222222222222, \"#7201a8\"], [0.3333333333333333, \"#9c179e\"], [0.4444444444444444, \"#bd3786\"], [0.5555555555555556, \"#d8576b\"], [0.6666666666666666, \"#ed7953\"], [0.7777777777777778, \"#fb9f3a\"], [0.8888888888888888, \"#fdca26\"], [1.0, \"#f0f921\"]], \"type\": \"surface\"}], \"table\": [{\"cells\": {\"fill\": {\"color\": \"#EBF0F8\"}, \"line\": {\"color\": \"white\"}}, \"header\": {\"fill\": {\"color\": \"#C8D4E3\"}, \"line\": {\"color\": \"white\"}}, \"type\": \"table\"}]}, \"layout\": {\"annotationdefaults\": {\"arrowcolor\": \"#2a3f5f\", \"arrowhead\": 0, \"arrowwidth\": 1}, \"coloraxis\": {\"colorbar\": {\"outlinewidth\": 0, \"ticks\": \"\"}}, \"colorscale\": {\"diverging\": [[0, \"#8e0152\"], [0.1, \"#c51b7d\"], [0.2, \"#de77ae\"], [0.3, \"#f1b6da\"], [0.4, \"#fde0ef\"], [0.5, \"#f7f7f7\"], [0.6, \"#e6f5d0\"], [0.7, \"#b8e186\"], [0.8, \"#7fbc41\"], [0.9, \"#4d9221\"], [1, \"#276419\"]], \"sequential\": [[0.0, \"#0d0887\"], [0.1111111111111111, \"#46039f\"], [0.2222222222222222, \"#7201a8\"], [0.3333333333333333, \"#9c179e\"], [0.4444444444444444, \"#bd3786\"], [0.5555555555555556, \"#d8576b\"], [0.6666666666666666, \"#ed7953\"], [0.7777777777777778, \"#fb9f3a\"], [0.8888888888888888, \"#fdca26\"], [1.0, \"#f0f921\"]], \"sequentialminus\": [[0.0, \"#0d0887\"], [0.1111111111111111, \"#46039f\"], [0.2222222222222222, \"#7201a8\"], [0.3333333333333333, \"#9c179e\"], [0.4444444444444444, \"#bd3786\"], [0.5555555555555556, \"#d8576b\"], [0.6666666666666666, \"#ed7953\"], [0.7777777777777778, \"#fb9f3a\"], [0.8888888888888888, \"#fdca26\"], [1.0, \"#f0f921\"]]}, \"colorway\": [\"#636efa\", \"#EF553B\", \"#00cc96\", \"#ab63fa\", \"#FFA15A\", \"#19d3f3\", \"#FF6692\", \"#B6E880\", \"#FF97FF\", \"#FECB52\"], \"font\": {\"color\": \"#2a3f5f\"}, \"geo\": {\"bgcolor\": \"white\", \"lakecolor\": \"white\", \"landcolor\": \"#E5ECF6\", \"showlakes\": true, \"showland\": true, \"subunitcolor\": \"white\"}, \"hoverlabel\": {\"align\": \"left\"}, \"hovermode\": \"closest\", \"mapbox\": {\"style\": \"light\"}, \"paper_bgcolor\": \"white\", \"plot_bgcolor\": \"#E5ECF6\", \"polar\": {\"angularaxis\": {\"gridcolor\": \"white\", \"linecolor\": \"white\", \"ticks\": \"\"}, \"bgcolor\": \"#E5ECF6\", \"radialaxis\": {\"gridcolor\": \"white\", \"linecolor\": \"white\", \"ticks\": \"\"}}, \"scene\": {\"xaxis\": {\"backgroundcolor\": \"#E5ECF6\", \"gridcolor\": \"white\", \"gridwidth\": 2, \"linecolor\": \"white\", \"showbackground\": true, \"ticks\": \"\", \"zerolinecolor\": \"white\"}, \"yaxis\": {\"backgroundcolor\": \"#E5ECF6\", \"gridcolor\": \"white\", \"gridwidth\": 2, \"linecolor\": \"white\", \"showbackground\": true, \"ticks\": \"\", \"zerolinecolor\": \"white\"}, \"zaxis\": {\"backgroundcolor\": \"#E5ECF6\", \"gridcolor\": \"white\", \"gridwidth\": 2, \"linecolor\": \"white\", \"showbackground\": true, \"ticks\": \"\", \"zerolinecolor\": \"white\"}}, \"shapedefaults\": {\"line\": {\"color\": \"#2a3f5f\"}}, \"ternary\": {\"aaxis\": {\"gridcolor\": \"white\", \"linecolor\": \"white\", \"ticks\": \"\"}, \"baxis\": {\"gridcolor\": \"white\", \"linecolor\": \"white\", \"ticks\": \"\"}, \"bgcolor\": \"#E5ECF6\", \"caxis\": {\"gridcolor\": \"white\", \"linecolor\": \"white\", \"ticks\": \"\"}}, \"title\": {\"x\": 0.05}, \"xaxis\": {\"automargin\": true, \"gridcolor\": \"white\", \"linecolor\": \"white\", \"ticks\": \"\", \"title\": {\"standoff\": 15}, \"zerolinecolor\": \"white\", \"zerolinewidth\": 2}, \"yaxis\": {\"automargin\": true, \"gridcolor\": \"white\", \"linecolor\": \"white\", \"ticks\": \"\", \"title\": {\"standoff\": 15}, \"zerolinecolor\": \"white\", \"zerolinewidth\": 2}}}, \"xaxis\": {\"anchor\": \"y\", \"domain\": [0.0, 1.0], \"title\": {\"text\": \"year\"}}, \"yaxis\": {\"anchor\": \"x\", \"domain\": [0.0, 1.0], \"title\": {\"text\": \"fertility_rate\"}}},\n",
              "                        {\"responsive\": true}\n",
              "                    ).then(function(){\n",
              "                            \n",
              "var gd = document.getElementById('87601f0e-6c4a-427c-8edc-b963694e7010');\n",
              "var x = new MutationObserver(function (mutations, observer) {{\n",
              "        var display = window.getComputedStyle(gd).display;\n",
              "        if (!display || display === 'none') {{\n",
              "            console.log([gd, 'removed!']);\n",
              "            Plotly.purge(gd);\n",
              "            observer.disconnect();\n",
              "        }}\n",
              "}});\n",
              "\n",
              "// Listen for the removal of the full notebook cells\n",
              "var notebookContainer = gd.closest('#notebook-container');\n",
              "if (notebookContainer) {{\n",
              "    x.observe(notebookContainer, {childList: true});\n",
              "}}\n",
              "\n",
              "// Listen for the clearing of the current output cell\n",
              "var outputEl = gd.closest('.output');\n",
              "if (outputEl) {{\n",
              "    x.observe(outputEl, {childList: true});\n",
              "}}\n",
              "\n",
              "                        })\n",
              "                };\n",
              "                \n",
              "            </script>\n",
              "        </div>\n",
              "</body>\n",
              "</html>"
            ]
          },
          "metadata": {}
        }
      ]
    },
    {
      "cell_type": "code",
      "metadata": {
        "colab": {
          "base_uri": "https://localhost:8080/",
          "height": 542
        },
        "id": "zHun0DcljL5y",
        "outputId": "c1af8d73-181a-4729-f447-4df83e25bf86"
      },
      "source": [
        "import plotly.express as px\n",
        "fig = px.line(df, x=\"year\", y=\"consumer_price_index\", color=\"country\")\n",
        "fig.show()"
      ],
      "execution_count": null,
      "outputs": [
        {
          "output_type": "display_data",
          "data": {
            "text/html": [
              "<html>\n",
              "<head><meta charset=\"utf-8\" /></head>\n",
              "<body>\n",
              "    <div>\n",
              "            <script src=\"https://cdnjs.cloudflare.com/ajax/libs/mathjax/2.7.5/MathJax.js?config=TeX-AMS-MML_SVG\"></script><script type=\"text/javascript\">if (window.MathJax) {MathJax.Hub.Config({SVG: {font: \"STIX-Web\"}});}</script>\n",
              "                <script type=\"text/javascript\">window.PlotlyConfig = {MathJaxConfig: 'local'};</script>\n",
              "        <script src=\"https://cdn.plot.ly/plotly-latest.min.js\"></script>    \n",
              "            <div id=\"2e3c10db-5a7e-4d60-8f2f-770dd661c114\" class=\"plotly-graph-div\" style=\"height:525px; width:100%;\"></div>\n",
              "            <script type=\"text/javascript\">\n",
              "                \n",
              "                    window.PLOTLYENV=window.PLOTLYENV || {};\n",
              "                    \n",
              "                if (document.getElementById(\"2e3c10db-5a7e-4d60-8f2f-770dd661c114\")) {\n",
              "                    Plotly.newPlot(\n",
              "                        '2e3c10db-5a7e-4d60-8f2f-770dd661c114',\n",
              "                        [{\"hoverlabel\": {\"namelength\": 0}, \"hovertemplate\": \"country=Singapore<br>year=%{x}<br>consumer_price_index=%{y}\", \"legendgroup\": \"country=Singapore\", \"line\": {\"color\": \"#636efa\", \"dash\": \"solid\"}, \"mode\": \"lines\", \"name\": \"country=Singapore\", \"showlegend\": true, \"type\": \"scatter\", \"x\": [\"1990\", \"1991\", \"1992\", \"1993\", \"1994\", \"1995\", \"1996\", \"1997\", \"1998\", \"1999\", \"2000\", \"2001\", \"2002\", \"2003\", \"2004\", \"2005\", \"2006\", \"2007\", \"2008\", \"2009\", \"2010\", \"2011\", \"2012\", \"2013\", \"2014\", \"2015\", \"2016\", \"2017\", \"2018\", \"2019\"], \"xaxis\": \"x\", \"y\": [71.81673431396484, 74.27696228027344, 75.95790100097656, 77.69680786132812, 80.10550689697266, 81.48374938964844, 82.6108169555664, 84.26599884033203, 84.04058074951172, 84.05462646484375, 85.19913482666016, 86.04873657226562, 85.71170806884766, 86.14704132080078, 87.57942962646484, 87.95173645019531, 88.79862213134766, 90.66773223876953, 96.67698669433594, 97.2538833618164, 100.0, 105.24779510498047, 110.06351470947266, 112.65947723388672, 113.81439971923828, 113.21958923339844, 112.61695861816406, 113.26592254638672, 113.76273345947266, 114.4057846069336], \"yaxis\": \"y\"}, {\"hoverlabel\": {\"namelength\": 0}, \"hovertemplate\": \"country=Japan<br>year=%{x}<br>consumer_price_index=%{y}\", \"legendgroup\": \"country=Japan\", \"line\": {\"color\": \"#EF553B\", \"dash\": \"solid\"}, \"mode\": \"lines\", \"name\": \"country=Japan\", \"showlegend\": true, \"type\": \"scatter\", \"x\": [\"1990\", \"1991\", \"1992\", \"1993\", \"1994\", \"1995\", \"1996\", \"1997\", \"1998\", \"1999\", \"2000\", \"2001\", \"2002\", \"2003\", \"2004\", \"2005\", \"2006\", \"2007\", \"2008\", \"2009\", \"2010\", \"2011\", \"2012\", \"2013\", \"2014\", \"2015\", \"2016\", \"2017\", \"2018\", \"2019\"], \"xaxis\": \"x\", \"y\": [94.52645874023438, 97.59992980957031, 99.31796264648438, 100.55253601074219, 101.25183868408203, 101.1223373413086, 101.26046752929688, 103.03030395507812, 103.71233367919922, 103.35836791992188, 102.65906524658203, 101.89933776855469, 100.95829772949219, 100.69930267333984, 100.69066619873047, 100.40576934814453, 100.65613555908203, 100.71656799316406, 102.10653686523438, 100.72520446777344, 100.0, 99.73236846923828, 99.6805648803711, 100.0259017944336, 102.78856658935547, 103.60010528564453, 103.47924041748047, 103.96270751953125, 104.98143768310547, 105.48217010498047], \"yaxis\": \"y\"}, {\"hoverlabel\": {\"namelength\": 0}, \"hovertemplate\": \"country=South Korea<br>year=%{x}<br>consumer_price_index=%{y}\", \"legendgroup\": \"country=South Korea\", \"line\": {\"color\": \"#00cc96\", \"dash\": \"solid\"}, \"mode\": \"lines\", \"name\": \"country=South Korea\", \"showlegend\": true, \"type\": \"scatter\", \"x\": [\"1990\", \"1991\", \"1992\", \"1993\", \"1994\", \"1995\", \"1996\", \"1997\", \"1998\", \"1999\", \"2000\", \"2001\", \"2002\", \"2003\", \"2004\", \"2005\", \"2006\", \"2007\", \"2008\", \"2009\", \"2010\", \"2011\", \"2012\", \"2013\", \"2014\", \"2015\", \"2016\", \"2017\", \"2018\", \"2019\"], \"xaxis\": \"x\", \"y\": [44.55091857910156, 48.709014892578125, 51.73514938354492, 54.2190055847168, 57.616268157958984, 60.197872161865234, 63.162506103515625, 65.9663314819336, 70.92259979248047, 71.49919891357422, 73.114501953125, 76.087646484375, 78.1895751953125, 80.9378433227539, 83.84398651123047, 86.15312957763672, 88.08454895019531, 90.3173599243164, 94.53860473632812, 97.14473724365234, 100.0, 104.02584838867188, 106.3011245727539, 107.68450164794922, 109.05716705322266, 109.82733917236328, 110.8945083618164, 113.05079650878906, 114.71927642822266, 115.15858459472656], \"yaxis\": \"y\"}, {\"hoverlabel\": {\"namelength\": 0}, \"hovertemplate\": \"country=Malaysia<br>year=%{x}<br>consumer_price_index=%{y}\", \"legendgroup\": \"country=Malaysia\", \"line\": {\"color\": \"#ab63fa\", \"dash\": \"solid\"}, \"mode\": \"lines\", \"name\": \"country=Malaysia\", \"showlegend\": true, \"type\": \"scatter\", \"x\": [\"1990\", \"1991\", \"1992\", \"1993\", \"1994\", \"1995\", \"1996\", \"1997\", \"1998\", \"1999\", \"2000\", \"2001\", \"2002\", \"2003\", \"2004\", \"2005\", \"2006\", \"2007\", \"2008\", \"2009\", \"2010\", \"2011\", \"2012\", \"2013\", \"2014\", \"2015\", \"2016\", \"2017\", \"2018\", \"2019\"], \"xaxis\": \"x\", \"y\": [56.813743591308594, 59.28987503051758, 62.11635971069336, 64.31315612792969, 66.70880126953125, 69.0106430053711, 71.41812133789062, 73.31963348388672, 77.18383026123047, 79.30219268798828, 80.51927185058594, 81.6600570678711, 83.13636779785156, 84.04228210449219, 85.23675537109375, 87.7726058959961, 90.9405288696289, 92.78421020507812, 97.8323974609375, 98.40306091308594, 100.0, 103.17446899414062, 104.89085388183594, 107.09881591796875, 110.46492004394531, 112.78953552246094, 115.14747619628906, 119.60506439208984, 120.66322326660156, 121.46308898925781], \"yaxis\": \"y\"}, {\"hoverlabel\": {\"namelength\": 0}, \"hovertemplate\": \"country=Philippines<br>year=%{x}<br>consumer_price_index=%{y}\", \"legendgroup\": \"country=Philippines\", \"line\": {\"color\": \"#FFA15A\", \"dash\": \"solid\"}, \"mode\": \"lines\", \"name\": \"country=Philippines\", \"showlegend\": true, \"type\": \"scatter\", \"x\": [\"1990\", \"1991\", \"1992\", \"1993\", \"1994\", \"1995\", \"1996\", \"1997\", \"1998\", \"1999\", \"2000\", \"2001\", \"2002\", \"2003\", \"2004\", \"2005\", \"2006\", \"2007\", \"2008\", \"2009\", \"2010\", \"2011\", \"2012\", \"2013\", \"2014\", \"2015\", \"2016\", \"2017\", \"2018\", \"2019\"], \"xaxis\": \"x\", \"y\": [28.584806442260742, 34.09065628051758, 37.03984069824219, 39.52755355834961, 43.63307189941406, 46.614078521728516, 50.0989990234375, 52.899662017822266, 57.784908294677734, 61.2167854309082, 63.651451110839844, 67.05393981933594, 68.87966918945312, 70.45642852783203, 73.85892486572266, 78.67219543457031, 82.987548828125, 85.3941879272461, 92.44813537597656, 96.34854888916016, 100.0, 104.71841430664062, 107.8882064819336, 110.67462158203125, 114.65650177001953, 115.42950439453125, 116.87664031982422, 120.21134948730469, 126.4762954711914, 129.61325073242188], \"yaxis\": \"y\"}, {\"hoverlabel\": {\"namelength\": 0}, \"hovertemplate\": \"country=Indonesia<br>year=%{x}<br>consumer_price_index=%{y}\", \"legendgroup\": \"country=Indonesia\", \"line\": {\"color\": \"#19d3f3\", \"dash\": \"solid\"}, \"mode\": \"lines\", \"name\": \"country=Indonesia\", \"showlegend\": true, \"type\": \"scatter\", \"x\": [\"1990\", \"1991\", \"1992\", \"1993\", \"1994\", \"1995\", \"1996\", \"1997\", \"1998\", \"1999\", \"2000\", \"2001\", \"2002\", \"2003\", \"2004\", \"2005\", \"2006\", \"2007\", \"2008\", \"2009\", \"2010\", \"2011\", \"2012\", \"2013\", \"2014\", \"2015\", \"2016\", \"2017\", \"2018\", \"2019\"], \"xaxis\": \"x\", \"y\": [12.652673721313477, 13.844436645507812, 14.886025428771973, 16.32578468322754, 17.71870231628418, 19.387861251831055, 20.9337100982666, 22.237071990966797, 35.2348747253418, 42.45021057128906, 44.01603698730469, 49.07793426513672, 54.91826629638672, 58.62926483154297, 62.18457794189453, 68.68486022949219, 77.68852996826172, 82.66569519042969, 91.11963653564453, 95.11652374267578, 100.0, 105.35604858398438, 109.86476135253906, 116.90985107421875, 124.38614654541016, 132.30099487304688, 136.96566772460938, 142.1824188232422, 146.7299041748047, 151.1766815185547], \"yaxis\": \"y\"}, {\"hoverlabel\": {\"namelength\": 0}, \"hovertemplate\": \"country=Hong Kong SAR, China<br>year=%{x}<br>consumer_price_index=%{y}\", \"legendgroup\": \"country=Hong Kong SAR, China\", \"line\": {\"color\": \"#FF6692\", \"dash\": \"solid\"}, \"mode\": \"lines\", \"name\": \"country=Hong Kong SAR, China\", \"showlegend\": true, \"type\": \"scatter\", \"x\": [\"1990\", \"1991\", \"1992\", \"1993\", \"1994\", \"1995\", \"1996\", \"1997\", \"1998\", \"1999\", \"2000\", \"2001\", \"2002\", \"2003\", \"2004\", \"2005\", \"2006\", \"2007\", \"2008\", \"2009\", \"2010\", \"2011\", \"2012\", \"2013\", \"2014\", \"2015\", \"2016\", \"2017\", \"2018\", \"2019\"], \"xaxis\": \"x\", \"y\": [56.98834991455078, 63.347564697265625, 69.46219635009766, 75.57682800292969, 82.18062591552734, 89.64047241210938, 95.26593780517578, 100.76910400390625, 103.7041244506836, 99.54617309570312, 95.87739562988281, 94.28759765625, 91.47486114501953, 89.02901458740234, 88.784423828125, 89.51818084716797, 91.32117462158203, 93.17510223388672, 97.1783676147461, 97.73861694335938, 100.0, 105.27655792236328, 109.55485534667969, 114.29153442382812, 119.36436462402344, 122.9397964477539, 125.90404510498047, 127.76815795898438, 130.84445190429688, 134.59304809570312], \"yaxis\": \"y\"}, {\"hoverlabel\": {\"namelength\": 0}, \"hovertemplate\": \"country=China<br>year=%{x}<br>consumer_price_index=%{y}\", \"legendgroup\": \"country=China\", \"line\": {\"color\": \"#B6E880\", \"dash\": \"solid\"}, \"mode\": \"lines\", \"name\": \"country=China\", \"showlegend\": true, \"type\": \"scatter\", \"x\": [\"1990\", \"1991\", \"1992\", \"1993\", \"1994\", \"1995\", \"1996\", \"1997\", \"1998\", \"1999\", \"2000\", \"2001\", \"2002\", \"2003\", \"2004\", \"2005\", \"2006\", \"2007\", \"2008\", \"2009\", \"2010\", \"2011\", \"2012\", \"2013\", \"2014\", \"2015\", \"2016\", \"2017\", \"2018\", \"2019\"], \"xaxis\": \"x\", \"y\": [40.44026184082031, 41.878597259521484, 44.539554595947266, 51.046817779541016, 63.42924118041992, 74.07978820800781, 80.2381591796875, 82.47396850585938, 81.83628845214844, 80.68937683105469, 80.97002410888672, 81.55229949951172, 80.95536041259766, 81.86821746826172, 84.99937438964844, 86.50931549072266, 87.93622589111328, 92.17191314697266, 97.63333129882812, 96.92240142822266, 100.0, 105.55390167236328, 108.31890869140625, 111.15800476074219, 113.29405975341797, 114.92212677001953, 117.22056579589844, 119.08805084228516, 121.55887603759766, 125.0831527709961], \"yaxis\": \"y\"}, {\"hoverlabel\": {\"namelength\": 0}, \"hovertemplate\": \"country=Myanmar<br>year=%{x}<br>consumer_price_index=%{y}\", \"legendgroup\": \"country=Myanmar\", \"line\": {\"color\": \"#FF97FF\", \"dash\": \"solid\"}, \"mode\": \"lines\", \"name\": \"country=Myanmar\", \"showlegend\": true, \"type\": \"scatter\", \"x\": [\"1990\", \"1991\", \"1992\", \"1993\", \"1994\", \"1995\", \"1996\", \"1997\", \"1998\", \"1999\", \"2000\", \"2001\", \"2002\", \"2003\", \"2004\", \"2005\", \"2006\", \"2007\", \"2008\", \"2009\", \"2010\", \"2011\", \"2012\", \"2013\", \"2014\", \"2015\", \"2016\", \"2017\", \"2018\", \"2019\"], \"xaxis\": \"x\", \"y\": [1.6798524856567383, 2.221975088119507, 2.708881139755249, 3.5711615085601807, 4.43176794052124, 5.548339366912842, 6.451353549957275, 8.367227554321289, 12.675307273864746, 15.007696151733398, 14.991312980651855, 18.15467643737793, 28.516366958618164, 38.9504280090332, 40.716522216796875, 44.531097412109375, 53.435752868652344, 72.15141296386719, 91.48765563964844, 92.83466339111328, 100.0, 105.0214614868164, 106.56273651123047, 112.57611083984375, 118.15234375, 129.3226776123047, 138.28321838378906, 144.60626220703125, 154.54408264160156, 168.1826934814453], \"yaxis\": \"y\"}],\n",
              "                        {\"legend\": {\"tracegroupgap\": 0}, \"margin\": {\"t\": 60}, \"template\": {\"data\": {\"bar\": [{\"error_x\": {\"color\": \"#2a3f5f\"}, \"error_y\": {\"color\": \"#2a3f5f\"}, \"marker\": {\"line\": {\"color\": \"#E5ECF6\", \"width\": 0.5}}, \"type\": \"bar\"}], \"barpolar\": [{\"marker\": {\"line\": {\"color\": \"#E5ECF6\", \"width\": 0.5}}, \"type\": \"barpolar\"}], \"carpet\": [{\"aaxis\": {\"endlinecolor\": \"#2a3f5f\", \"gridcolor\": \"white\", \"linecolor\": \"white\", \"minorgridcolor\": \"white\", \"startlinecolor\": \"#2a3f5f\"}, \"baxis\": {\"endlinecolor\": \"#2a3f5f\", \"gridcolor\": \"white\", \"linecolor\": \"white\", \"minorgridcolor\": \"white\", \"startlinecolor\": \"#2a3f5f\"}, \"type\": \"carpet\"}], \"choropleth\": [{\"colorbar\": {\"outlinewidth\": 0, \"ticks\": \"\"}, \"type\": \"choropleth\"}], \"contour\": [{\"colorbar\": {\"outlinewidth\": 0, \"ticks\": \"\"}, \"colorscale\": [[0.0, \"#0d0887\"], [0.1111111111111111, \"#46039f\"], [0.2222222222222222, \"#7201a8\"], [0.3333333333333333, \"#9c179e\"], [0.4444444444444444, \"#bd3786\"], [0.5555555555555556, \"#d8576b\"], [0.6666666666666666, \"#ed7953\"], [0.7777777777777778, \"#fb9f3a\"], [0.8888888888888888, \"#fdca26\"], [1.0, \"#f0f921\"]], \"type\": \"contour\"}], \"contourcarpet\": [{\"colorbar\": {\"outlinewidth\": 0, \"ticks\": \"\"}, \"type\": \"contourcarpet\"}], \"heatmap\": [{\"colorbar\": {\"outlinewidth\": 0, \"ticks\": \"\"}, \"colorscale\": [[0.0, \"#0d0887\"], [0.1111111111111111, \"#46039f\"], [0.2222222222222222, \"#7201a8\"], [0.3333333333333333, \"#9c179e\"], [0.4444444444444444, \"#bd3786\"], [0.5555555555555556, \"#d8576b\"], [0.6666666666666666, \"#ed7953\"], [0.7777777777777778, \"#fb9f3a\"], [0.8888888888888888, \"#fdca26\"], [1.0, \"#f0f921\"]], \"type\": \"heatmap\"}], \"heatmapgl\": [{\"colorbar\": {\"outlinewidth\": 0, \"ticks\": \"\"}, \"colorscale\": [[0.0, \"#0d0887\"], [0.1111111111111111, \"#46039f\"], [0.2222222222222222, \"#7201a8\"], [0.3333333333333333, \"#9c179e\"], [0.4444444444444444, \"#bd3786\"], [0.5555555555555556, \"#d8576b\"], [0.6666666666666666, \"#ed7953\"], [0.7777777777777778, \"#fb9f3a\"], [0.8888888888888888, \"#fdca26\"], [1.0, \"#f0f921\"]], \"type\": \"heatmapgl\"}], \"histogram\": [{\"marker\": {\"colorbar\": {\"outlinewidth\": 0, \"ticks\": \"\"}}, \"type\": \"histogram\"}], \"histogram2d\": [{\"colorbar\": {\"outlinewidth\": 0, \"ticks\": \"\"}, \"colorscale\": [[0.0, \"#0d0887\"], [0.1111111111111111, \"#46039f\"], [0.2222222222222222, \"#7201a8\"], [0.3333333333333333, \"#9c179e\"], [0.4444444444444444, \"#bd3786\"], [0.5555555555555556, \"#d8576b\"], [0.6666666666666666, \"#ed7953\"], [0.7777777777777778, \"#fb9f3a\"], [0.8888888888888888, \"#fdca26\"], [1.0, \"#f0f921\"]], \"type\": \"histogram2d\"}], \"histogram2dcontour\": [{\"colorbar\": {\"outlinewidth\": 0, \"ticks\": \"\"}, \"colorscale\": [[0.0, \"#0d0887\"], [0.1111111111111111, \"#46039f\"], [0.2222222222222222, \"#7201a8\"], [0.3333333333333333, \"#9c179e\"], [0.4444444444444444, \"#bd3786\"], [0.5555555555555556, \"#d8576b\"], [0.6666666666666666, \"#ed7953\"], [0.7777777777777778, \"#fb9f3a\"], [0.8888888888888888, \"#fdca26\"], [1.0, \"#f0f921\"]], \"type\": \"histogram2dcontour\"}], \"mesh3d\": [{\"colorbar\": {\"outlinewidth\": 0, \"ticks\": \"\"}, \"type\": \"mesh3d\"}], \"parcoords\": [{\"line\": {\"colorbar\": {\"outlinewidth\": 0, \"ticks\": \"\"}}, \"type\": \"parcoords\"}], \"pie\": [{\"automargin\": true, \"type\": \"pie\"}], \"scatter\": [{\"marker\": {\"colorbar\": {\"outlinewidth\": 0, \"ticks\": \"\"}}, \"type\": \"scatter\"}], \"scatter3d\": [{\"line\": {\"colorbar\": {\"outlinewidth\": 0, \"ticks\": \"\"}}, \"marker\": {\"colorbar\": {\"outlinewidth\": 0, \"ticks\": \"\"}}, \"type\": \"scatter3d\"}], \"scattercarpet\": [{\"marker\": {\"colorbar\": {\"outlinewidth\": 0, \"ticks\": \"\"}}, \"type\": \"scattercarpet\"}], \"scattergeo\": [{\"marker\": {\"colorbar\": {\"outlinewidth\": 0, \"ticks\": \"\"}}, \"type\": \"scattergeo\"}], \"scattergl\": [{\"marker\": {\"colorbar\": {\"outlinewidth\": 0, \"ticks\": \"\"}}, \"type\": \"scattergl\"}], \"scattermapbox\": [{\"marker\": {\"colorbar\": {\"outlinewidth\": 0, \"ticks\": \"\"}}, \"type\": \"scattermapbox\"}], \"scatterpolar\": [{\"marker\": {\"colorbar\": {\"outlinewidth\": 0, \"ticks\": \"\"}}, \"type\": \"scatterpolar\"}], \"scatterpolargl\": [{\"marker\": {\"colorbar\": {\"outlinewidth\": 0, \"ticks\": \"\"}}, \"type\": \"scatterpolargl\"}], \"scatterternary\": [{\"marker\": {\"colorbar\": {\"outlinewidth\": 0, \"ticks\": \"\"}}, \"type\": \"scatterternary\"}], \"surface\": [{\"colorbar\": {\"outlinewidth\": 0, \"ticks\": \"\"}, \"colorscale\": [[0.0, \"#0d0887\"], [0.1111111111111111, \"#46039f\"], [0.2222222222222222, \"#7201a8\"], [0.3333333333333333, \"#9c179e\"], [0.4444444444444444, \"#bd3786\"], [0.5555555555555556, \"#d8576b\"], [0.6666666666666666, \"#ed7953\"], [0.7777777777777778, \"#fb9f3a\"], [0.8888888888888888, \"#fdca26\"], [1.0, \"#f0f921\"]], \"type\": \"surface\"}], \"table\": [{\"cells\": {\"fill\": {\"color\": \"#EBF0F8\"}, \"line\": {\"color\": \"white\"}}, \"header\": {\"fill\": {\"color\": \"#C8D4E3\"}, \"line\": {\"color\": \"white\"}}, \"type\": \"table\"}]}, \"layout\": {\"annotationdefaults\": {\"arrowcolor\": \"#2a3f5f\", \"arrowhead\": 0, \"arrowwidth\": 1}, \"coloraxis\": {\"colorbar\": {\"outlinewidth\": 0, \"ticks\": \"\"}}, \"colorscale\": {\"diverging\": [[0, \"#8e0152\"], [0.1, \"#c51b7d\"], [0.2, \"#de77ae\"], [0.3, \"#f1b6da\"], [0.4, \"#fde0ef\"], [0.5, \"#f7f7f7\"], [0.6, \"#e6f5d0\"], [0.7, \"#b8e186\"], [0.8, \"#7fbc41\"], [0.9, \"#4d9221\"], [1, \"#276419\"]], \"sequential\": [[0.0, \"#0d0887\"], [0.1111111111111111, \"#46039f\"], [0.2222222222222222, \"#7201a8\"], [0.3333333333333333, \"#9c179e\"], [0.4444444444444444, \"#bd3786\"], [0.5555555555555556, \"#d8576b\"], [0.6666666666666666, \"#ed7953\"], [0.7777777777777778, \"#fb9f3a\"], [0.8888888888888888, \"#fdca26\"], [1.0, \"#f0f921\"]], \"sequentialminus\": [[0.0, \"#0d0887\"], [0.1111111111111111, \"#46039f\"], [0.2222222222222222, \"#7201a8\"], [0.3333333333333333, \"#9c179e\"], [0.4444444444444444, \"#bd3786\"], [0.5555555555555556, \"#d8576b\"], [0.6666666666666666, \"#ed7953\"], [0.7777777777777778, \"#fb9f3a\"], [0.8888888888888888, \"#fdca26\"], [1.0, \"#f0f921\"]]}, \"colorway\": [\"#636efa\", \"#EF553B\", \"#00cc96\", \"#ab63fa\", \"#FFA15A\", \"#19d3f3\", \"#FF6692\", \"#B6E880\", \"#FF97FF\", \"#FECB52\"], \"font\": {\"color\": \"#2a3f5f\"}, \"geo\": {\"bgcolor\": \"white\", \"lakecolor\": \"white\", \"landcolor\": \"#E5ECF6\", \"showlakes\": true, \"showland\": true, \"subunitcolor\": \"white\"}, \"hoverlabel\": {\"align\": \"left\"}, \"hovermode\": \"closest\", \"mapbox\": {\"style\": \"light\"}, \"paper_bgcolor\": \"white\", \"plot_bgcolor\": \"#E5ECF6\", \"polar\": {\"angularaxis\": {\"gridcolor\": \"white\", \"linecolor\": \"white\", \"ticks\": \"\"}, \"bgcolor\": \"#E5ECF6\", \"radialaxis\": {\"gridcolor\": \"white\", \"linecolor\": \"white\", \"ticks\": \"\"}}, \"scene\": {\"xaxis\": {\"backgroundcolor\": \"#E5ECF6\", \"gridcolor\": \"white\", \"gridwidth\": 2, \"linecolor\": \"white\", \"showbackground\": true, \"ticks\": \"\", \"zerolinecolor\": \"white\"}, \"yaxis\": {\"backgroundcolor\": \"#E5ECF6\", \"gridcolor\": \"white\", \"gridwidth\": 2, \"linecolor\": \"white\", \"showbackground\": true, \"ticks\": \"\", \"zerolinecolor\": \"white\"}, \"zaxis\": {\"backgroundcolor\": \"#E5ECF6\", \"gridcolor\": \"white\", \"gridwidth\": 2, \"linecolor\": \"white\", \"showbackground\": true, \"ticks\": \"\", \"zerolinecolor\": \"white\"}}, \"shapedefaults\": {\"line\": {\"color\": \"#2a3f5f\"}}, \"ternary\": {\"aaxis\": {\"gridcolor\": \"white\", \"linecolor\": \"white\", \"ticks\": \"\"}, \"baxis\": {\"gridcolor\": \"white\", \"linecolor\": \"white\", \"ticks\": \"\"}, \"bgcolor\": \"#E5ECF6\", \"caxis\": {\"gridcolor\": \"white\", \"linecolor\": \"white\", \"ticks\": \"\"}}, \"title\": {\"x\": 0.05}, \"xaxis\": {\"automargin\": true, \"gridcolor\": \"white\", \"linecolor\": \"white\", \"ticks\": \"\", \"title\": {\"standoff\": 15}, \"zerolinecolor\": \"white\", \"zerolinewidth\": 2}, \"yaxis\": {\"automargin\": true, \"gridcolor\": \"white\", \"linecolor\": \"white\", \"ticks\": \"\", \"title\": {\"standoff\": 15}, \"zerolinecolor\": \"white\", \"zerolinewidth\": 2}}}, \"xaxis\": {\"anchor\": \"y\", \"domain\": [0.0, 1.0], \"title\": {\"text\": \"year\"}}, \"yaxis\": {\"anchor\": \"x\", \"domain\": [0.0, 1.0], \"title\": {\"text\": \"consumer_price_index\"}}},\n",
              "                        {\"responsive\": true}\n",
              "                    ).then(function(){\n",
              "                            \n",
              "var gd = document.getElementById('2e3c10db-5a7e-4d60-8f2f-770dd661c114');\n",
              "var x = new MutationObserver(function (mutations, observer) {{\n",
              "        var display = window.getComputedStyle(gd).display;\n",
              "        if (!display || display === 'none') {{\n",
              "            console.log([gd, 'removed!']);\n",
              "            Plotly.purge(gd);\n",
              "            observer.disconnect();\n",
              "        }}\n",
              "}});\n",
              "\n",
              "// Listen for the removal of the full notebook cells\n",
              "var notebookContainer = gd.closest('#notebook-container');\n",
              "if (notebookContainer) {{\n",
              "    x.observe(notebookContainer, {childList: true});\n",
              "}}\n",
              "\n",
              "// Listen for the clearing of the current output cell\n",
              "var outputEl = gd.closest('.output');\n",
              "if (outputEl) {{\n",
              "    x.observe(outputEl, {childList: true});\n",
              "}}\n",
              "\n",
              "                        })\n",
              "                };\n",
              "                \n",
              "            </script>\n",
              "        </div>\n",
              "</body>\n",
              "</html>"
            ]
          },
          "metadata": {}
        }
      ]
    },
    {
      "cell_type": "code",
      "metadata": {
        "colab": {
          "base_uri": "https://localhost:8080/",
          "height": 542
        },
        "id": "eDlpCy9Lfqjl",
        "outputId": "f5796b60-dfc9-44d1-afb3-1829da12d5be"
      },
      "source": [
        "import plotly.express as px\n",
        "fig = px.line(df, x=\"year\", y=\"consumer_price_index\", color=\"chinese_prominance\", facet_col=\"country\")\n",
        "                  #hover_data=['female-labourFrc-percentage'])\n",
        "fig.show()"
      ],
      "execution_count": null,
      "outputs": [
        {
          "output_type": "display_data",
          "data": {
            "text/html": [
              "<html>\n",
              "<head><meta charset=\"utf-8\" /></head>\n",
              "<body>\n",
              "    <div>\n",
              "            <script src=\"https://cdnjs.cloudflare.com/ajax/libs/mathjax/2.7.5/MathJax.js?config=TeX-AMS-MML_SVG\"></script><script type=\"text/javascript\">if (window.MathJax) {MathJax.Hub.Config({SVG: {font: \"STIX-Web\"}});}</script>\n",
              "                <script type=\"text/javascript\">window.PlotlyConfig = {MathJaxConfig: 'local'};</script>\n",
              "        <script src=\"https://cdn.plot.ly/plotly-latest.min.js\"></script>    \n",
              "            <div id=\"22aef59f-5489-46a5-8c51-5d53c8e1e43c\" class=\"plotly-graph-div\" style=\"height:525px; width:100%;\"></div>\n",
              "            <script type=\"text/javascript\">\n",
              "                \n",
              "                    window.PLOTLYENV=window.PLOTLYENV || {};\n",
              "                    \n",
              "                if (document.getElementById(\"22aef59f-5489-46a5-8c51-5d53c8e1e43c\")) {\n",
              "                    Plotly.newPlot(\n",
              "                        '22aef59f-5489-46a5-8c51-5d53c8e1e43c',\n",
              "                        [{\"hoverlabel\": {\"namelength\": 0}, \"hovertemplate\": \"chinese_prominance=1<br>country=Singapore<br>year=%{x}<br>consumer_price_index=%{y}\", \"legendgroup\": \"chinese_prominance=1\", \"line\": {\"color\": \"#636efa\", \"dash\": \"solid\"}, \"mode\": \"lines\", \"name\": \"chinese_prominance=1\", \"showlegend\": true, \"type\": \"scatter\", \"x\": [\"1990\", \"1991\", \"1992\", \"1993\", \"1994\", \"1995\", \"1996\", \"1997\", \"1998\", \"1999\", \"2000\", \"2001\", \"2002\", \"2003\", \"2004\", \"2005\", \"2006\", \"2007\", \"2008\", \"2009\", \"2010\", \"2011\", \"2012\", \"2013\", \"2014\", \"2015\", \"2016\", \"2017\", \"2018\", \"2019\"], \"xaxis\": \"x\", \"y\": [71.81673431396484, 74.27696228027344, 75.95790100097656, 77.69680786132812, 80.10550689697266, 81.48374938964844, 82.6108169555664, 84.26599884033203, 84.04058074951172, 84.05462646484375, 85.19913482666016, 86.04873657226562, 85.71170806884766, 86.14704132080078, 87.57942962646484, 87.95173645019531, 88.79862213134766, 90.66773223876953, 96.67698669433594, 97.2538833618164, 100.0, 105.24779510498047, 110.06351470947266, 112.65947723388672, 113.81439971923828, 113.21958923339844, 112.61695861816406, 113.26592254638672, 113.76273345947266, 114.4057846069336], \"yaxis\": \"y\"}, {\"hoverlabel\": {\"namelength\": 0}, \"hovertemplate\": \"chinese_prominance=1<br>country=Hong Kong SAR, China<br>year=%{x}<br>consumer_price_index=%{y}\", \"legendgroup\": \"chinese_prominance=1\", \"line\": {\"color\": \"#636efa\", \"dash\": \"solid\"}, \"mode\": \"lines\", \"name\": \"chinese_prominance=1\", \"showlegend\": false, \"type\": \"scatter\", \"x\": [\"1990\", \"1991\", \"1992\", \"1993\", \"1994\", \"1995\", \"1996\", \"1997\", \"1998\", \"1999\", \"2000\", \"2001\", \"2002\", \"2003\", \"2004\", \"2005\", \"2006\", \"2007\", \"2008\", \"2009\", \"2010\", \"2011\", \"2012\", \"2013\", \"2014\", \"2015\", \"2016\", \"2017\", \"2018\", \"2019\"], \"xaxis\": \"x2\", \"y\": [56.98834991455078, 63.347564697265625, 69.46219635009766, 75.57682800292969, 82.18062591552734, 89.64047241210938, 95.26593780517578, 100.76910400390625, 103.7041244506836, 99.54617309570312, 95.87739562988281, 94.28759765625, 91.47486114501953, 89.02901458740234, 88.784423828125, 89.51818084716797, 91.32117462158203, 93.17510223388672, 97.1783676147461, 97.73861694335938, 100.0, 105.27655792236328, 109.55485534667969, 114.29153442382812, 119.36436462402344, 122.9397964477539, 125.90404510498047, 127.76815795898438, 130.84445190429688, 134.59304809570312], \"yaxis\": \"y2\"}, {\"hoverlabel\": {\"namelength\": 0}, \"hovertemplate\": \"chinese_prominance=1<br>country=China<br>year=%{x}<br>consumer_price_index=%{y}\", \"legendgroup\": \"chinese_prominance=1\", \"line\": {\"color\": \"#636efa\", \"dash\": \"solid\"}, \"mode\": \"lines\", \"name\": \"chinese_prominance=1\", \"showlegend\": false, \"type\": \"scatter\", \"x\": [\"1990\", \"1991\", \"1992\", \"1993\", \"1994\", \"1995\", \"1996\", \"1997\", \"1998\", \"1999\", \"2000\", \"2001\", \"2002\", \"2003\", \"2004\", \"2005\", \"2006\", \"2007\", \"2008\", \"2009\", \"2010\", \"2011\", \"2012\", \"2013\", \"2014\", \"2015\", \"2016\", \"2017\", \"2018\", \"2019\"], \"xaxis\": \"x3\", \"y\": [40.44026184082031, 41.878597259521484, 44.539554595947266, 51.046817779541016, 63.42924118041992, 74.07978820800781, 80.2381591796875, 82.47396850585938, 81.83628845214844, 80.68937683105469, 80.97002410888672, 81.55229949951172, 80.95536041259766, 81.86821746826172, 84.99937438964844, 86.50931549072266, 87.93622589111328, 92.17191314697266, 97.63333129882812, 96.92240142822266, 100.0, 105.55390167236328, 108.31890869140625, 111.15800476074219, 113.29405975341797, 114.92212677001953, 117.22056579589844, 119.08805084228516, 121.55887603759766, 125.0831527709961], \"yaxis\": \"y3\"}, {\"hoverlabel\": {\"namelength\": 0}, \"hovertemplate\": \"chinese_prominance=0<br>country=Japan<br>year=%{x}<br>consumer_price_index=%{y}\", \"legendgroup\": \"chinese_prominance=0\", \"line\": {\"color\": \"#EF553B\", \"dash\": \"solid\"}, \"mode\": \"lines\", \"name\": \"chinese_prominance=0\", \"showlegend\": true, \"type\": \"scatter\", \"x\": [\"1990\", \"1991\", \"1992\", \"1993\", \"1994\", \"1995\", \"1996\", \"1997\", \"1998\", \"1999\", \"2000\", \"2001\", \"2002\", \"2003\", \"2004\", \"2005\", \"2006\", \"2007\", \"2008\", \"2009\", \"2010\", \"2011\", \"2012\", \"2013\", \"2014\", \"2015\", \"2016\", \"2017\", \"2018\", \"2019\"], \"xaxis\": \"x4\", \"y\": [94.52645874023438, 97.59992980957031, 99.31796264648438, 100.55253601074219, 101.25183868408203, 101.1223373413086, 101.26046752929688, 103.03030395507812, 103.71233367919922, 103.35836791992188, 102.65906524658203, 101.89933776855469, 100.95829772949219, 100.69930267333984, 100.69066619873047, 100.40576934814453, 100.65613555908203, 100.71656799316406, 102.10653686523438, 100.72520446777344, 100.0, 99.73236846923828, 99.6805648803711, 100.0259017944336, 102.78856658935547, 103.60010528564453, 103.47924041748047, 103.96270751953125, 104.98143768310547, 105.48217010498047], \"yaxis\": \"y4\"}, {\"hoverlabel\": {\"namelength\": 0}, \"hovertemplate\": \"chinese_prominance=0<br>country=South Korea<br>year=%{x}<br>consumer_price_index=%{y}\", \"legendgroup\": \"chinese_prominance=0\", \"line\": {\"color\": \"#EF553B\", \"dash\": \"solid\"}, \"mode\": \"lines\", \"name\": \"chinese_prominance=0\", \"showlegend\": false, \"type\": \"scatter\", \"x\": [\"1990\", \"1991\", \"1992\", \"1993\", \"1994\", \"1995\", \"1996\", \"1997\", \"1998\", \"1999\", \"2000\", \"2001\", \"2002\", \"2003\", \"2004\", \"2005\", \"2006\", \"2007\", \"2008\", \"2009\", \"2010\", \"2011\", \"2012\", \"2013\", \"2014\", \"2015\", \"2016\", \"2017\", \"2018\", \"2019\"], \"xaxis\": \"x5\", \"y\": [44.55091857910156, 48.709014892578125, 51.73514938354492, 54.2190055847168, 57.616268157958984, 60.197872161865234, 63.162506103515625, 65.9663314819336, 70.92259979248047, 71.49919891357422, 73.114501953125, 76.087646484375, 78.1895751953125, 80.9378433227539, 83.84398651123047, 86.15312957763672, 88.08454895019531, 90.3173599243164, 94.53860473632812, 97.14473724365234, 100.0, 104.02584838867188, 106.3011245727539, 107.68450164794922, 109.05716705322266, 109.82733917236328, 110.8945083618164, 113.05079650878906, 114.71927642822266, 115.15858459472656], \"yaxis\": \"y5\"}, {\"hoverlabel\": {\"namelength\": 0}, \"hovertemplate\": \"chinese_prominance=0<br>country=Malaysia<br>year=%{x}<br>consumer_price_index=%{y}\", \"legendgroup\": \"chinese_prominance=0\", \"line\": {\"color\": \"#EF553B\", \"dash\": \"solid\"}, \"mode\": \"lines\", \"name\": \"chinese_prominance=0\", \"showlegend\": false, \"type\": \"scatter\", \"x\": [\"1990\", \"1991\", \"1992\", \"1993\", \"1994\", \"1995\", \"1996\", \"1997\", \"1998\", \"1999\", \"2000\", \"2001\", \"2002\", \"2003\", \"2004\", \"2005\", \"2006\", \"2007\", \"2008\", \"2009\", \"2010\", \"2011\", \"2012\", \"2013\", \"2014\", \"2015\", \"2016\", \"2017\", \"2018\", \"2019\"], \"xaxis\": \"x6\", \"y\": [56.813743591308594, 59.28987503051758, 62.11635971069336, 64.31315612792969, 66.70880126953125, 69.0106430053711, 71.41812133789062, 73.31963348388672, 77.18383026123047, 79.30219268798828, 80.51927185058594, 81.6600570678711, 83.13636779785156, 84.04228210449219, 85.23675537109375, 87.7726058959961, 90.9405288696289, 92.78421020507812, 97.8323974609375, 98.40306091308594, 100.0, 103.17446899414062, 104.89085388183594, 107.09881591796875, 110.46492004394531, 112.78953552246094, 115.14747619628906, 119.60506439208984, 120.66322326660156, 121.46308898925781], \"yaxis\": \"y6\"}, {\"hoverlabel\": {\"namelength\": 0}, \"hovertemplate\": \"chinese_prominance=0<br>country=Philippines<br>year=%{x}<br>consumer_price_index=%{y}\", \"legendgroup\": \"chinese_prominance=0\", \"line\": {\"color\": \"#EF553B\", \"dash\": \"solid\"}, \"mode\": \"lines\", \"name\": \"chinese_prominance=0\", \"showlegend\": false, \"type\": \"scatter\", \"x\": [\"1990\", \"1991\", \"1992\", \"1993\", \"1994\", \"1995\", \"1996\", \"1997\", \"1998\", \"1999\", \"2000\", \"2001\", \"2002\", \"2003\", \"2004\", \"2005\", \"2006\", \"2007\", \"2008\", \"2009\", \"2010\", \"2011\", \"2012\", \"2013\", \"2014\", \"2015\", \"2016\", \"2017\", \"2018\", \"2019\"], \"xaxis\": \"x7\", \"y\": [28.584806442260742, 34.09065628051758, 37.03984069824219, 39.52755355834961, 43.63307189941406, 46.614078521728516, 50.0989990234375, 52.899662017822266, 57.784908294677734, 61.2167854309082, 63.651451110839844, 67.05393981933594, 68.87966918945312, 70.45642852783203, 73.85892486572266, 78.67219543457031, 82.987548828125, 85.3941879272461, 92.44813537597656, 96.34854888916016, 100.0, 104.71841430664062, 107.8882064819336, 110.67462158203125, 114.65650177001953, 115.42950439453125, 116.87664031982422, 120.21134948730469, 126.4762954711914, 129.61325073242188], \"yaxis\": \"y7\"}, {\"hoverlabel\": {\"namelength\": 0}, \"hovertemplate\": \"chinese_prominance=0<br>country=Indonesia<br>year=%{x}<br>consumer_price_index=%{y}\", \"legendgroup\": \"chinese_prominance=0\", \"line\": {\"color\": \"#EF553B\", \"dash\": \"solid\"}, \"mode\": \"lines\", \"name\": \"chinese_prominance=0\", \"showlegend\": false, \"type\": \"scatter\", \"x\": [\"1990\", \"1991\", \"1992\", \"1993\", \"1994\", \"1995\", \"1996\", \"1997\", \"1998\", \"1999\", \"2000\", \"2001\", \"2002\", \"2003\", \"2004\", \"2005\", \"2006\", \"2007\", \"2008\", \"2009\", \"2010\", \"2011\", \"2012\", \"2013\", \"2014\", \"2015\", \"2016\", \"2017\", \"2018\", \"2019\"], \"xaxis\": \"x8\", \"y\": [12.652673721313477, 13.844436645507812, 14.886025428771973, 16.32578468322754, 17.71870231628418, 19.387861251831055, 20.9337100982666, 22.237071990966797, 35.2348747253418, 42.45021057128906, 44.01603698730469, 49.07793426513672, 54.91826629638672, 58.62926483154297, 62.18457794189453, 68.68486022949219, 77.68852996826172, 82.66569519042969, 91.11963653564453, 95.11652374267578, 100.0, 105.35604858398438, 109.86476135253906, 116.90985107421875, 124.38614654541016, 132.30099487304688, 136.96566772460938, 142.1824188232422, 146.7299041748047, 151.1766815185547], \"yaxis\": \"y8\"}, {\"hoverlabel\": {\"namelength\": 0}, \"hovertemplate\": \"chinese_prominance=0<br>country=Myanmar<br>year=%{x}<br>consumer_price_index=%{y}\", \"legendgroup\": \"chinese_prominance=0\", \"line\": {\"color\": \"#EF553B\", \"dash\": \"solid\"}, \"mode\": \"lines\", \"name\": \"chinese_prominance=0\", \"showlegend\": false, \"type\": \"scatter\", \"x\": [\"1990\", \"1991\", \"1992\", \"1993\", \"1994\", \"1995\", \"1996\", \"1997\", \"1998\", \"1999\", \"2000\", \"2001\", \"2002\", \"2003\", \"2004\", \"2005\", \"2006\", \"2007\", \"2008\", \"2009\", \"2010\", \"2011\", \"2012\", \"2013\", \"2014\", \"2015\", \"2016\", \"2017\", \"2018\", \"2019\"], \"xaxis\": \"x9\", \"y\": [1.6798524856567383, 2.221975088119507, 2.708881139755249, 3.5711615085601807, 4.43176794052124, 5.548339366912842, 6.451353549957275, 8.367227554321289, 12.675307273864746, 15.007696151733398, 14.991312980651855, 18.15467643737793, 28.516366958618164, 38.9504280090332, 40.716522216796875, 44.531097412109375, 53.435752868652344, 72.15141296386719, 91.48765563964844, 92.83466339111328, 100.0, 105.0214614868164, 106.56273651123047, 112.57611083984375, 118.15234375, 129.3226776123047, 138.28321838378906, 144.60626220703125, 154.54408264160156, 168.1826934814453], \"yaxis\": \"y9\"}],\n",
              "                        {\"annotations\": [{\"font\": {}, \"showarrow\": false, \"text\": \"country=Singapore\", \"x\": 0.04666666666666666, \"xanchor\": \"center\", \"xref\": \"paper\", \"y\": 1.0, \"yanchor\": \"bottom\", \"yref\": \"paper\"}, {\"font\": {}, \"showarrow\": false, \"text\": \"country=Hong Kong SAR, China\", \"x\": 0.16, \"xanchor\": \"center\", \"xref\": \"paper\", \"y\": 1.0, \"yanchor\": \"bottom\", \"yref\": \"paper\"}, {\"font\": {}, \"showarrow\": false, \"text\": \"country=China\", \"x\": 0.2733333333333333, \"xanchor\": \"center\", \"xref\": \"paper\", \"y\": 1.0, \"yanchor\": \"bottom\", \"yref\": \"paper\"}, {\"font\": {}, \"showarrow\": false, \"text\": \"country=Japan\", \"x\": 0.3866666666666666, \"xanchor\": \"center\", \"xref\": \"paper\", \"y\": 1.0, \"yanchor\": \"bottom\", \"yref\": \"paper\"}, {\"font\": {}, \"showarrow\": false, \"text\": \"country=South Korea\", \"x\": 0.5, \"xanchor\": \"center\", \"xref\": \"paper\", \"y\": 1.0, \"yanchor\": \"bottom\", \"yref\": \"paper\"}, {\"font\": {}, \"showarrow\": false, \"text\": \"country=Malaysia\", \"x\": 0.6133333333333333, \"xanchor\": \"center\", \"xref\": \"paper\", \"y\": 1.0, \"yanchor\": \"bottom\", \"yref\": \"paper\"}, {\"font\": {}, \"showarrow\": false, \"text\": \"country=Philippines\", \"x\": 0.7266666666666666, \"xanchor\": \"center\", \"xref\": \"paper\", \"y\": 1.0, \"yanchor\": \"bottom\", \"yref\": \"paper\"}, {\"font\": {}, \"showarrow\": false, \"text\": \"country=Indonesia\", \"x\": 0.8400000000000001, \"xanchor\": \"center\", \"xref\": \"paper\", \"y\": 1.0, \"yanchor\": \"bottom\", \"yref\": \"paper\"}, {\"font\": {}, \"showarrow\": false, \"text\": \"country=Myanmar\", \"x\": 0.9533333333333334, \"xanchor\": \"center\", \"xref\": \"paper\", \"y\": 1.0, \"yanchor\": \"bottom\", \"yref\": \"paper\"}], \"legend\": {\"tracegroupgap\": 0}, \"margin\": {\"t\": 60}, \"template\": {\"data\": {\"bar\": [{\"error_x\": {\"color\": \"#2a3f5f\"}, \"error_y\": {\"color\": \"#2a3f5f\"}, \"marker\": {\"line\": {\"color\": \"#E5ECF6\", \"width\": 0.5}}, \"type\": \"bar\"}], \"barpolar\": [{\"marker\": {\"line\": {\"color\": \"#E5ECF6\", \"width\": 0.5}}, \"type\": \"barpolar\"}], \"carpet\": [{\"aaxis\": {\"endlinecolor\": \"#2a3f5f\", \"gridcolor\": \"white\", \"linecolor\": \"white\", \"minorgridcolor\": \"white\", \"startlinecolor\": \"#2a3f5f\"}, \"baxis\": {\"endlinecolor\": \"#2a3f5f\", \"gridcolor\": \"white\", \"linecolor\": \"white\", \"minorgridcolor\": \"white\", \"startlinecolor\": \"#2a3f5f\"}, \"type\": \"carpet\"}], \"choropleth\": [{\"colorbar\": {\"outlinewidth\": 0, \"ticks\": \"\"}, \"type\": \"choropleth\"}], \"contour\": [{\"colorbar\": {\"outlinewidth\": 0, \"ticks\": \"\"}, \"colorscale\": [[0.0, \"#0d0887\"], [0.1111111111111111, \"#46039f\"], [0.2222222222222222, \"#7201a8\"], [0.3333333333333333, \"#9c179e\"], [0.4444444444444444, \"#bd3786\"], [0.5555555555555556, \"#d8576b\"], [0.6666666666666666, \"#ed7953\"], [0.7777777777777778, \"#fb9f3a\"], [0.8888888888888888, \"#fdca26\"], [1.0, \"#f0f921\"]], \"type\": \"contour\"}], \"contourcarpet\": [{\"colorbar\": {\"outlinewidth\": 0, \"ticks\": \"\"}, \"type\": \"contourcarpet\"}], \"heatmap\": [{\"colorbar\": {\"outlinewidth\": 0, \"ticks\": \"\"}, \"colorscale\": [[0.0, \"#0d0887\"], [0.1111111111111111, \"#46039f\"], [0.2222222222222222, \"#7201a8\"], [0.3333333333333333, \"#9c179e\"], [0.4444444444444444, \"#bd3786\"], [0.5555555555555556, \"#d8576b\"], [0.6666666666666666, \"#ed7953\"], [0.7777777777777778, \"#fb9f3a\"], [0.8888888888888888, \"#fdca26\"], [1.0, \"#f0f921\"]], \"type\": \"heatmap\"}], \"heatmapgl\": [{\"colorbar\": {\"outlinewidth\": 0, \"ticks\": \"\"}, \"colorscale\": [[0.0, \"#0d0887\"], [0.1111111111111111, \"#46039f\"], [0.2222222222222222, \"#7201a8\"], [0.3333333333333333, \"#9c179e\"], [0.4444444444444444, \"#bd3786\"], [0.5555555555555556, \"#d8576b\"], [0.6666666666666666, \"#ed7953\"], [0.7777777777777778, \"#fb9f3a\"], [0.8888888888888888, \"#fdca26\"], [1.0, \"#f0f921\"]], \"type\": \"heatmapgl\"}], \"histogram\": [{\"marker\": {\"colorbar\": {\"outlinewidth\": 0, \"ticks\": \"\"}}, \"type\": \"histogram\"}], \"histogram2d\": [{\"colorbar\": {\"outlinewidth\": 0, \"ticks\": \"\"}, \"colorscale\": [[0.0, \"#0d0887\"], [0.1111111111111111, \"#46039f\"], [0.2222222222222222, \"#7201a8\"], [0.3333333333333333, \"#9c179e\"], [0.4444444444444444, \"#bd3786\"], [0.5555555555555556, \"#d8576b\"], [0.6666666666666666, \"#ed7953\"], [0.7777777777777778, \"#fb9f3a\"], [0.8888888888888888, \"#fdca26\"], [1.0, \"#f0f921\"]], \"type\": \"histogram2d\"}], \"histogram2dcontour\": [{\"colorbar\": {\"outlinewidth\": 0, \"ticks\": \"\"}, \"colorscale\": [[0.0, \"#0d0887\"], [0.1111111111111111, \"#46039f\"], [0.2222222222222222, \"#7201a8\"], [0.3333333333333333, \"#9c179e\"], [0.4444444444444444, \"#bd3786\"], [0.5555555555555556, \"#d8576b\"], [0.6666666666666666, \"#ed7953\"], [0.7777777777777778, \"#fb9f3a\"], [0.8888888888888888, \"#fdca26\"], [1.0, \"#f0f921\"]], \"type\": \"histogram2dcontour\"}], \"mesh3d\": [{\"colorbar\": {\"outlinewidth\": 0, \"ticks\": \"\"}, \"type\": \"mesh3d\"}], \"parcoords\": [{\"line\": {\"colorbar\": {\"outlinewidth\": 0, \"ticks\": \"\"}}, \"type\": \"parcoords\"}], \"pie\": [{\"automargin\": true, \"type\": \"pie\"}], \"scatter\": [{\"marker\": {\"colorbar\": {\"outlinewidth\": 0, \"ticks\": \"\"}}, \"type\": \"scatter\"}], \"scatter3d\": [{\"line\": {\"colorbar\": {\"outlinewidth\": 0, \"ticks\": \"\"}}, \"marker\": {\"colorbar\": {\"outlinewidth\": 0, \"ticks\": \"\"}}, \"type\": \"scatter3d\"}], \"scattercarpet\": [{\"marker\": {\"colorbar\": {\"outlinewidth\": 0, \"ticks\": \"\"}}, \"type\": \"scattercarpet\"}], \"scattergeo\": [{\"marker\": {\"colorbar\": {\"outlinewidth\": 0, \"ticks\": \"\"}}, \"type\": \"scattergeo\"}], \"scattergl\": [{\"marker\": {\"colorbar\": {\"outlinewidth\": 0, \"ticks\": \"\"}}, \"type\": \"scattergl\"}], \"scattermapbox\": [{\"marker\": {\"colorbar\": {\"outlinewidth\": 0, \"ticks\": \"\"}}, \"type\": \"scattermapbox\"}], \"scatterpolar\": [{\"marker\": {\"colorbar\": {\"outlinewidth\": 0, \"ticks\": \"\"}}, \"type\": \"scatterpolar\"}], \"scatterpolargl\": [{\"marker\": {\"colorbar\": {\"outlinewidth\": 0, \"ticks\": \"\"}}, \"type\": \"scatterpolargl\"}], \"scatterternary\": [{\"marker\": {\"colorbar\": {\"outlinewidth\": 0, \"ticks\": \"\"}}, \"type\": \"scatterternary\"}], \"surface\": [{\"colorbar\": {\"outlinewidth\": 0, \"ticks\": \"\"}, \"colorscale\": [[0.0, \"#0d0887\"], [0.1111111111111111, \"#46039f\"], [0.2222222222222222, \"#7201a8\"], [0.3333333333333333, \"#9c179e\"], [0.4444444444444444, \"#bd3786\"], [0.5555555555555556, \"#d8576b\"], [0.6666666666666666, \"#ed7953\"], [0.7777777777777778, \"#fb9f3a\"], [0.8888888888888888, \"#fdca26\"], [1.0, \"#f0f921\"]], \"type\": \"surface\"}], \"table\": [{\"cells\": {\"fill\": {\"color\": \"#EBF0F8\"}, \"line\": {\"color\": \"white\"}}, \"header\": {\"fill\": {\"color\": \"#C8D4E3\"}, \"line\": {\"color\": \"white\"}}, \"type\": \"table\"}]}, \"layout\": {\"annotationdefaults\": {\"arrowcolor\": \"#2a3f5f\", \"arrowhead\": 0, \"arrowwidth\": 1}, \"coloraxis\": {\"colorbar\": {\"outlinewidth\": 0, \"ticks\": \"\"}}, \"colorscale\": {\"diverging\": [[0, \"#8e0152\"], [0.1, \"#c51b7d\"], [0.2, \"#de77ae\"], [0.3, \"#f1b6da\"], [0.4, \"#fde0ef\"], [0.5, \"#f7f7f7\"], [0.6, \"#e6f5d0\"], [0.7, \"#b8e186\"], [0.8, \"#7fbc41\"], [0.9, \"#4d9221\"], [1, \"#276419\"]], \"sequential\": [[0.0, \"#0d0887\"], [0.1111111111111111, \"#46039f\"], [0.2222222222222222, \"#7201a8\"], [0.3333333333333333, \"#9c179e\"], [0.4444444444444444, \"#bd3786\"], [0.5555555555555556, \"#d8576b\"], [0.6666666666666666, \"#ed7953\"], [0.7777777777777778, \"#fb9f3a\"], [0.8888888888888888, \"#fdca26\"], [1.0, \"#f0f921\"]], \"sequentialminus\": [[0.0, \"#0d0887\"], [0.1111111111111111, \"#46039f\"], [0.2222222222222222, \"#7201a8\"], [0.3333333333333333, \"#9c179e\"], [0.4444444444444444, \"#bd3786\"], [0.5555555555555556, \"#d8576b\"], [0.6666666666666666, \"#ed7953\"], [0.7777777777777778, \"#fb9f3a\"], [0.8888888888888888, \"#fdca26\"], [1.0, \"#f0f921\"]]}, \"colorway\": [\"#636efa\", \"#EF553B\", \"#00cc96\", \"#ab63fa\", \"#FFA15A\", \"#19d3f3\", \"#FF6692\", \"#B6E880\", \"#FF97FF\", \"#FECB52\"], \"font\": {\"color\": \"#2a3f5f\"}, \"geo\": {\"bgcolor\": \"white\", \"lakecolor\": \"white\", \"landcolor\": \"#E5ECF6\", \"showlakes\": true, \"showland\": true, \"subunitcolor\": \"white\"}, \"hoverlabel\": {\"align\": \"left\"}, \"hovermode\": \"closest\", \"mapbox\": {\"style\": \"light\"}, \"paper_bgcolor\": \"white\", \"plot_bgcolor\": \"#E5ECF6\", \"polar\": {\"angularaxis\": {\"gridcolor\": \"white\", \"linecolor\": \"white\", \"ticks\": \"\"}, \"bgcolor\": \"#E5ECF6\", \"radialaxis\": {\"gridcolor\": \"white\", \"linecolor\": \"white\", \"ticks\": \"\"}}, \"scene\": {\"xaxis\": {\"backgroundcolor\": \"#E5ECF6\", \"gridcolor\": \"white\", \"gridwidth\": 2, \"linecolor\": \"white\", \"showbackground\": true, \"ticks\": \"\", \"zerolinecolor\": \"white\"}, \"yaxis\": {\"backgroundcolor\": \"#E5ECF6\", \"gridcolor\": \"white\", \"gridwidth\": 2, \"linecolor\": \"white\", \"showbackground\": true, \"ticks\": \"\", \"zerolinecolor\": \"white\"}, \"zaxis\": {\"backgroundcolor\": \"#E5ECF6\", \"gridcolor\": \"white\", \"gridwidth\": 2, \"linecolor\": \"white\", \"showbackground\": true, \"ticks\": \"\", \"zerolinecolor\": \"white\"}}, \"shapedefaults\": {\"line\": {\"color\": \"#2a3f5f\"}}, \"ternary\": {\"aaxis\": {\"gridcolor\": \"white\", \"linecolor\": \"white\", \"ticks\": \"\"}, \"baxis\": {\"gridcolor\": \"white\", \"linecolor\": \"white\", \"ticks\": \"\"}, \"bgcolor\": \"#E5ECF6\", \"caxis\": {\"gridcolor\": \"white\", \"linecolor\": \"white\", \"ticks\": \"\"}}, \"title\": {\"x\": 0.05}, \"xaxis\": {\"automargin\": true, \"gridcolor\": \"white\", \"linecolor\": \"white\", \"ticks\": \"\", \"title\": {\"standoff\": 15}, \"zerolinecolor\": \"white\", \"zerolinewidth\": 2}, \"yaxis\": {\"automargin\": true, \"gridcolor\": \"white\", \"linecolor\": \"white\", \"ticks\": \"\", \"title\": {\"standoff\": 15}, \"zerolinecolor\": \"white\", \"zerolinewidth\": 2}}}, \"xaxis\": {\"anchor\": \"y\", \"domain\": [0.0, 0.09333333333333332], \"title\": {\"text\": \"year\"}}, \"xaxis2\": {\"anchor\": \"y2\", \"domain\": [0.11333333333333333, 0.20666666666666667], \"matches\": \"x\", \"title\": {\"text\": \"year\"}}, \"xaxis3\": {\"anchor\": \"y3\", \"domain\": [0.22666666666666666, 0.31999999999999995], \"matches\": \"x\", \"title\": {\"text\": \"year\"}}, \"xaxis4\": {\"anchor\": \"y4\", \"domain\": [0.33999999999999997, 0.4333333333333333], \"matches\": \"x\", \"title\": {\"text\": \"year\"}}, \"xaxis5\": {\"anchor\": \"y5\", \"domain\": [0.4533333333333333, 0.5466666666666666], \"matches\": \"x\", \"title\": {\"text\": \"year\"}}, \"xaxis6\": {\"anchor\": \"y6\", \"domain\": [0.5666666666666667, 0.6599999999999999], \"matches\": \"x\", \"title\": {\"text\": \"year\"}}, \"xaxis7\": {\"anchor\": \"y7\", \"domain\": [0.6799999999999999, 0.7733333333333332], \"matches\": \"x\", \"title\": {\"text\": \"year\"}}, \"xaxis8\": {\"anchor\": \"y8\", \"domain\": [0.7933333333333333, 0.8866666666666667], \"matches\": \"x\", \"title\": {\"text\": \"year\"}}, \"xaxis9\": {\"anchor\": \"y9\", \"domain\": [0.9066666666666666, 1.0], \"matches\": \"x\", \"title\": {\"text\": \"year\"}}, \"yaxis\": {\"anchor\": \"x\", \"domain\": [0.0, 1.0], \"title\": {\"text\": \"consumer_price_index\"}}, \"yaxis2\": {\"anchor\": \"x2\", \"domain\": [0.0, 1.0], \"matches\": \"y\", \"showticklabels\": false}, \"yaxis3\": {\"anchor\": \"x3\", \"domain\": [0.0, 1.0], \"matches\": \"y\", \"showticklabels\": false}, \"yaxis4\": {\"anchor\": \"x4\", \"domain\": [0.0, 1.0], \"matches\": \"y\", \"showticklabels\": false}, \"yaxis5\": {\"anchor\": \"x5\", \"domain\": [0.0, 1.0], \"matches\": \"y\", \"showticklabels\": false}, \"yaxis6\": {\"anchor\": \"x6\", \"domain\": [0.0, 1.0], \"matches\": \"y\", \"showticklabels\": false}, \"yaxis7\": {\"anchor\": \"x7\", \"domain\": [0.0, 1.0], \"matches\": \"y\", \"showticklabels\": false}, \"yaxis8\": {\"anchor\": \"x8\", \"domain\": [0.0, 1.0], \"matches\": \"y\", \"showticklabels\": false}, \"yaxis9\": {\"anchor\": \"x9\", \"domain\": [0.0, 1.0], \"matches\": \"y\", \"showticklabels\": false}},\n",
              "                        {\"responsive\": true}\n",
              "                    ).then(function(){\n",
              "                            \n",
              "var gd = document.getElementById('22aef59f-5489-46a5-8c51-5d53c8e1e43c');\n",
              "var x = new MutationObserver(function (mutations, observer) {{\n",
              "        var display = window.getComputedStyle(gd).display;\n",
              "        if (!display || display === 'none') {{\n",
              "            console.log([gd, 'removed!']);\n",
              "            Plotly.purge(gd);\n",
              "            observer.disconnect();\n",
              "        }}\n",
              "}});\n",
              "\n",
              "// Listen for the removal of the full notebook cells\n",
              "var notebookContainer = gd.closest('#notebook-container');\n",
              "if (notebookContainer) {{\n",
              "    x.observe(notebookContainer, {childList: true});\n",
              "}}\n",
              "\n",
              "// Listen for the clearing of the current output cell\n",
              "var outputEl = gd.closest('.output');\n",
              "if (outputEl) {{\n",
              "    x.observe(outputEl, {childList: true});\n",
              "}}\n",
              "\n",
              "                        })\n",
              "                };\n",
              "                \n",
              "            </script>\n",
              "        </div>\n",
              "</body>\n",
              "</html>"
            ]
          },
          "metadata": {}
        }
      ]
    },
    {
      "cell_type": "code",
      "metadata": {
        "id": "7KIibfC4koCP"
      },
      "source": [
        ""
      ],
      "execution_count": null,
      "outputs": []
    },
    {
      "cell_type": "code",
      "metadata": {
        "colab": {
          "base_uri": "https://localhost:8080/",
          "height": 542
        },
        "id": "d4KrjU4zPPN3",
        "outputId": "5a12f023-b242-4a5a-a0c6-5e9b7a601056"
      },
      "source": [
        "import plotly.express as px\n",
        "fig = px.scatter(df, x=\"year\", y=\"fertility_rate\", color=\"country\", size='consumer_price_index',)\n",
        "                  #hover_data=['female-labourFrc-percentage'])\n",
        "fig.show()"
      ],
      "execution_count": null,
      "outputs": [
        {
          "output_type": "display_data",
          "data": {
            "text/html": [
              "<html>\n",
              "<head><meta charset=\"utf-8\" /></head>\n",
              "<body>\n",
              "    <div>\n",
              "            <script src=\"https://cdnjs.cloudflare.com/ajax/libs/mathjax/2.7.5/MathJax.js?config=TeX-AMS-MML_SVG\"></script><script type=\"text/javascript\">if (window.MathJax) {MathJax.Hub.Config({SVG: {font: \"STIX-Web\"}});}</script>\n",
              "                <script type=\"text/javascript\">window.PlotlyConfig = {MathJaxConfig: 'local'};</script>\n",
              "        <script src=\"https://cdn.plot.ly/plotly-latest.min.js\"></script>    \n",
              "            <div id=\"08f74ec8-cfc6-4350-a947-e0b324e26773\" class=\"plotly-graph-div\" style=\"height:525px; width:100%;\"></div>\n",
              "            <script type=\"text/javascript\">\n",
              "                \n",
              "                    window.PLOTLYENV=window.PLOTLYENV || {};\n",
              "                    \n",
              "                if (document.getElementById(\"08f74ec8-cfc6-4350-a947-e0b324e26773\")) {\n",
              "                    Plotly.newPlot(\n",
              "                        '08f74ec8-cfc6-4350-a947-e0b324e26773',\n",
              "                        [{\"hoverlabel\": {\"namelength\": 0}, \"hovertemplate\": \"country=Singapore<br>year=%{x}<br>fertility_rate=%{y}<br>consumer_price_index=%{marker.size}\", \"legendgroup\": \"country=Singapore\", \"marker\": {\"color\": \"#636efa\", \"size\": [71.81673431396484, 74.27696228027344, 75.95790100097656, 77.69680786132812, 80.10550689697266, 81.48374938964844, 82.6108169555664, 84.26599884033203, 84.04058074951172, 84.05462646484375, 85.19913482666016, 86.04873657226562, 85.71170806884766, 86.14704132080078, 87.57942962646484, 87.95173645019531, 88.79862213134766, 90.66773223876953, 96.67698669433594, 97.2538833618164, 100.0, 105.24779510498047, 110.06351470947266, 112.65947723388672, 113.81439971923828, 113.21958923339844, 112.61695861816406, 113.26592254638672, 113.76273345947266, 114.4057846069336], \"sizemode\": \"area\", \"sizeref\": 0.4204567337036133, \"symbol\": \"circle\"}, \"mode\": \"markers\", \"name\": \"country=Singapore\", \"showlegend\": true, \"type\": \"scatter\", \"x\": [\"1990\", \"1991\", \"1992\", \"1993\", \"1994\", \"1995\", \"1996\", \"1997\", \"1998\", \"1999\", \"2000\", \"2001\", \"2002\", \"2003\", \"2004\", \"2005\", \"2006\", \"2007\", \"2008\", \"2009\", \"2010\", \"2011\", \"2012\", \"2013\", \"2014\", \"2015\", \"2016\", \"2017\", \"2018\", \"2019\"], \"xaxis\": \"x\", \"y\": [\"1.83\", \"1.73\", \"1.72\", \"1.74\", \"1.71\", \"1.67\", \"1.66\", \"1.61\", \"1.48\", \"1.47\", \"1.6\", \"1.41\", \"1.37\", \"1.27\", \"1.26\", \"1.26\", \"1.28\", \"1.29\", \"1.28\", \"1.22\", \"1.15\", \"1.2\", \"1.29\", \"1.19\", \"1.25\", \"1.24\", \"1.2\", \"1.16\", \"1.14\", \"1.14\"], \"yaxis\": \"y\"}, {\"hoverlabel\": {\"namelength\": 0}, \"hovertemplate\": \"country=Japan<br>year=%{x}<br>fertility_rate=%{y}<br>consumer_price_index=%{marker.size}\", \"legendgroup\": \"country=Japan\", \"marker\": {\"color\": \"#EF553B\", \"size\": [94.52645874023438, 97.59992980957031, 99.31796264648438, 100.55253601074219, 101.25183868408203, 101.1223373413086, 101.26046752929688, 103.03030395507812, 103.71233367919922, 103.35836791992188, 102.65906524658203, 101.89933776855469, 100.95829772949219, 100.69930267333984, 100.69066619873047, 100.40576934814453, 100.65613555908203, 100.71656799316406, 102.10653686523438, 100.72520446777344, 100.0, 99.73236846923828, 99.6805648803711, 100.0259017944336, 102.78856658935547, 103.60010528564453, 103.47924041748047, 103.96270751953125, 104.98143768310547, 105.48217010498047], \"sizemode\": \"area\", \"sizeref\": 0.4204567337036133, \"symbol\": \"circle\"}, \"mode\": \"markers\", \"name\": \"country=Japan\", \"showlegend\": true, \"type\": \"scatter\", \"x\": [\"1990\", \"1991\", \"1992\", \"1993\", \"1994\", \"1995\", \"1996\", \"1997\", \"1998\", \"1999\", \"2000\", \"2001\", \"2002\", \"2003\", \"2004\", \"2005\", \"2006\", \"2007\", \"2008\", \"2009\", \"2010\", \"2011\", \"2012\", \"2013\", \"2014\", \"2015\", \"2016\", \"2017\", \"2018\", \"2019\"], \"xaxis\": \"x\", \"y\": [\"1.54\", \"1.53\", \"1.502\", \"1.458\", \"1.5\", \"1.422\", \"1.425\", \"1.388\", \"1.384\", \"1.342\", \"1.359\", \"1.33\", \"1.32\", \"1.29\", \"1.29\", \"1.26\", \"1.32\", \"1.34\", \"1.37\", \"1.37\", \"1.39\", \"1.39\", \"1.41\", \"1.43\", \"1.42\", \"1.45\", \"1.44\", \"1.43\", \"1.42\", \"1.36\"], \"yaxis\": \"y\"}, {\"hoverlabel\": {\"namelength\": 0}, \"hovertemplate\": \"country=South Korea<br>year=%{x}<br>fertility_rate=%{y}<br>consumer_price_index=%{marker.size}\", \"legendgroup\": \"country=South Korea\", \"marker\": {\"color\": \"#00cc96\", \"size\": [44.55091857910156, 48.709014892578125, 51.73514938354492, 54.2190055847168, 57.616268157958984, 60.197872161865234, 63.162506103515625, 65.9663314819336, 70.92259979248047, 71.49919891357422, 73.114501953125, 76.087646484375, 78.1895751953125, 80.9378433227539, 83.84398651123047, 86.15312957763672, 88.08454895019531, 90.3173599243164, 94.53860473632812, 97.14473724365234, 100.0, 104.02584838867188, 106.3011245727539, 107.68450164794922, 109.05716705322266, 109.82733917236328, 110.8945083618164, 113.05079650878906, 114.71927642822266, 115.15858459472656], \"sizemode\": \"area\", \"sizeref\": 0.4204567337036133, \"symbol\": \"circle\"}, \"mode\": \"markers\", \"name\": \"country=South Korea\", \"showlegend\": true, \"type\": \"scatter\", \"x\": [\"1990\", \"1991\", \"1992\", \"1993\", \"1994\", \"1995\", \"1996\", \"1997\", \"1998\", \"1999\", \"2000\", \"2001\", \"2002\", \"2003\", \"2004\", \"2005\", \"2006\", \"2007\", \"2008\", \"2009\", \"2010\", \"2011\", \"2012\", \"2013\", \"2014\", \"2015\", \"2016\", \"2017\", \"2018\", \"2019\"], \"xaxis\": \"x\", \"y\": [\"1.57\", \"1.71\", \"1.76\", \"1.654\", \"1.656\", \"1.634\", \"1.574\", \"1.537\", \"1.464\", \"1.425\", \"1.48\", \"1.309\", \"1.178\", \"1.191\", \"1.164\", \"1.085\", \"1.132\", \"1.259\", \"1.192\", \"1.149\", \"1.226\", \"1.244\", \"1.297\", \"1.187\", \"1.205\", \"1.239\", \"1.172\", \"1.052\", \"0.977\", \"0.918\"], \"yaxis\": \"y\"}, {\"hoverlabel\": {\"namelength\": 0}, \"hovertemplate\": \"country=Malaysia<br>year=%{x}<br>fertility_rate=%{y}<br>consumer_price_index=%{marker.size}\", \"legendgroup\": \"country=Malaysia\", \"marker\": {\"color\": \"#ab63fa\", \"size\": [56.813743591308594, 59.28987503051758, 62.11635971069336, 64.31315612792969, 66.70880126953125, 69.0106430053711, 71.41812133789062, 73.31963348388672, 77.18383026123047, 79.30219268798828, 80.51927185058594, 81.6600570678711, 83.13636779785156, 84.04228210449219, 85.23675537109375, 87.7726058959961, 90.9405288696289, 92.78421020507812, 97.8323974609375, 98.40306091308594, 100.0, 103.17446899414062, 104.89085388183594, 107.09881591796875, 110.46492004394531, 112.78953552246094, 115.14747619628906, 119.60506439208984, 120.66322326660156, 121.46308898925781], \"sizemode\": \"area\", \"sizeref\": 0.4204567337036133, \"symbol\": \"circle\"}, \"mode\": \"markers\", \"name\": \"country=Malaysia\", \"showlegend\": true, \"type\": \"scatter\", \"x\": [\"1990\", \"1991\", \"1992\", \"1993\", \"1994\", \"1995\", \"1996\", \"1997\", \"1998\", \"1999\", \"2000\", \"2001\", \"2002\", \"2003\", \"2004\", \"2005\", \"2006\", \"2007\", \"2008\", \"2009\", \"2010\", \"2011\", \"2012\", \"2013\", \"2014\", \"2015\", \"2016\", \"2017\", \"2018\", \"2019\"], \"xaxis\": \"x\", \"y\": [\"3.554\", \"3.51\", \"3.466\", \"3.422\", \"3.372\", \"3.313\", \"3.238\", \"3.145\", \"3.036\", \"2.913\", \"2.784\", \"2.657\", \"2.539\", \"2.438\", \"2.355\", \"2.293\", \"2.249\", \"2.217\", \"2.191\", \"2.169\", \"2.149\", \"2.129\", \"2.11\", \"2.092\", \"2.074\", \"2.056\", \"2.037\", \"2.019\", \"2.001\", \"1.983\"], \"yaxis\": \"y\"}, {\"hoverlabel\": {\"namelength\": 0}, \"hovertemplate\": \"country=Philippines<br>year=%{x}<br>fertility_rate=%{y}<br>consumer_price_index=%{marker.size}\", \"legendgroup\": \"country=Philippines\", \"marker\": {\"color\": \"#FFA15A\", \"size\": [28.584806442260742, 34.09065628051758, 37.03984069824219, 39.52755355834961, 43.63307189941406, 46.614078521728516, 50.0989990234375, 52.899662017822266, 57.784908294677734, 61.2167854309082, 63.651451110839844, 67.05393981933594, 68.87966918945312, 70.45642852783203, 73.85892486572266, 78.67219543457031, 82.987548828125, 85.3941879272461, 92.44813537597656, 96.34854888916016, 100.0, 104.71841430664062, 107.8882064819336, 110.67462158203125, 114.65650177001953, 115.42950439453125, 116.87664031982422, 120.21134948730469, 126.4762954711914, 129.61325073242188], \"sizemode\": \"area\", \"sizeref\": 0.4204567337036133, \"symbol\": \"circle\"}, \"mode\": \"markers\", \"name\": \"country=Philippines\", \"showlegend\": true, \"type\": \"scatter\", \"x\": [\"1990\", \"1991\", \"1992\", \"1993\", \"1994\", \"1995\", \"1996\", \"1997\", \"1998\", \"1999\", \"2000\", \"2001\", \"2002\", \"2003\", \"2004\", \"2005\", \"2006\", \"2007\", \"2008\", \"2009\", \"2010\", \"2011\", \"2012\", \"2013\", \"2014\", \"2015\", \"2016\", \"2017\", \"2018\", \"2019\"], \"xaxis\": \"x\", \"y\": [\"4.32\", \"4.246\", \"4.177\", \"4.113\", \"4.056\", \"4.005\", \"3.961\", \"3.922\", \"3.886\", \"3.85\", \"3.811\", \"3.766\", \"3.712\", \"3.65\", \"3.579\", \"3.504\", \"3.429\", \"3.359\", \"3.294\", \"3.236\", \"3.18\", \"3.121\", \"3.055\", \"2.979\", \"2.894\", \"2.805\", \"2.718\", \"2.64\", \"2.576\", \"2.526\"], \"yaxis\": \"y\"}, {\"hoverlabel\": {\"namelength\": 0}, \"hovertemplate\": \"country=Indonesia<br>year=%{x}<br>fertility_rate=%{y}<br>consumer_price_index=%{marker.size}\", \"legendgroup\": \"country=Indonesia\", \"marker\": {\"color\": \"#19d3f3\", \"size\": [12.652673721313477, 13.844436645507812, 14.886025428771973, 16.32578468322754, 17.71870231628418, 19.387861251831055, 20.9337100982666, 22.237071990966797, 35.2348747253418, 42.45021057128906, 44.01603698730469, 49.07793426513672, 54.91826629638672, 58.62926483154297, 62.18457794189453, 68.68486022949219, 77.68852996826172, 82.66569519042969, 91.11963653564453, 95.11652374267578, 100.0, 105.35604858398438, 109.86476135253906, 116.90985107421875, 124.38614654541016, 132.30099487304688, 136.96566772460938, 142.1824188232422, 146.7299041748047, 151.1766815185547], \"sizemode\": \"area\", \"sizeref\": 0.4204567337036133, \"symbol\": \"circle\"}, \"mode\": \"markers\", \"name\": \"country=Indonesia\", \"showlegend\": true, \"type\": \"scatter\", \"x\": [\"1990\", \"1991\", \"1992\", \"1993\", \"1994\", \"1995\", \"1996\", \"1997\", \"1998\", \"1999\", \"2000\", \"2001\", \"2002\", \"2003\", \"2004\", \"2005\", \"2006\", \"2007\", \"2008\", \"2009\", \"2010\", \"2011\", \"2012\", \"2013\", \"2014\", \"2015\", \"2016\", \"2017\", \"2018\", \"2019\"], \"xaxis\": \"x\", \"y\": [\"3.122\", \"3.022\", \"2.929\", \"2.842\", \"2.761\", \"2.688\", \"2.627\", \"2.579\", \"2.544\", \"2.523\", \"2.512\", \"2.509\", \"2.511\", \"2.513\", \"2.515\", \"2.514\", \"2.51\", \"2.505\", \"2.499\", \"2.492\", \"2.483\", \"2.471\", \"2.455\", \"2.436\", \"2.413\", \"2.389\", \"2.362\", \"2.336\", \"2.311\", \"2.288\"], \"yaxis\": \"y\"}, {\"hoverlabel\": {\"namelength\": 0}, \"hovertemplate\": \"country=Hong Kong SAR, China<br>year=%{x}<br>fertility_rate=%{y}<br>consumer_price_index=%{marker.size}\", \"legendgroup\": \"country=Hong Kong SAR, China\", \"marker\": {\"color\": \"#FF6692\", \"size\": [56.98834991455078, 63.347564697265625, 69.46219635009766, 75.57682800292969, 82.18062591552734, 89.64047241210938, 95.26593780517578, 100.76910400390625, 103.7041244506836, 99.54617309570312, 95.87739562988281, 94.28759765625, 91.47486114501953, 89.02901458740234, 88.784423828125, 89.51818084716797, 91.32117462158203, 93.17510223388672, 97.1783676147461, 97.73861694335938, 100.0, 105.27655792236328, 109.55485534667969, 114.29153442382812, 119.36436462402344, 122.9397964477539, 125.90404510498047, 127.76815795898438, 130.84445190429688, 134.59304809570312], \"sizemode\": \"area\", \"sizeref\": 0.4204567337036133, \"symbol\": \"circle\"}, \"mode\": \"markers\", \"name\": \"country=Hong Kong SAR, China\", \"showlegend\": true, \"type\": \"scatter\", \"x\": [\"1990\", \"1991\", \"1992\", \"1993\", \"1994\", \"1995\", \"1996\", \"1997\", \"1998\", \"1999\", \"2000\", \"2001\", \"2002\", \"2003\", \"2004\", \"2005\", \"2006\", \"2007\", \"2008\", \"2009\", \"2010\", \"2011\", \"2012\", \"2013\", \"2014\", \"2015\", \"2016\", \"2017\", \"2018\", \"2019\"], \"xaxis\": \"x\", \"y\": [\"1.272\", \"1.281\", \"1.347\", \"1.342\", \"1.355\", \"1.295\", \"1.191\", \"1.127\", \"1.016\", \"0.981\", \"1.032\", \"0.931\", \"0.941\", \"0.901\", \"0.922\", \"0.959\", \"0.984\", \"1.028\", \"1.064\", \"1.055\", \"1.127\", \"1.204\", \"1.285\", \"1.125\", \"1.235\", \"1.196\", \"1.205\", \"1.125\", \"1.072\", \"1.051\"], \"yaxis\": \"y\"}, {\"hoverlabel\": {\"namelength\": 0}, \"hovertemplate\": \"country=China<br>year=%{x}<br>fertility_rate=%{y}<br>consumer_price_index=%{marker.size}\", \"legendgroup\": \"country=China\", \"marker\": {\"color\": \"#B6E880\", \"size\": [40.44026184082031, 41.878597259521484, 44.539554595947266, 51.046817779541016, 63.42924118041992, 74.07978820800781, 80.2381591796875, 82.47396850585938, 81.83628845214844, 80.68937683105469, 80.97002410888672, 81.55229949951172, 80.95536041259766, 81.86821746826172, 84.99937438964844, 86.50931549072266, 87.93622589111328, 92.17191314697266, 97.63333129882812, 96.92240142822266, 100.0, 105.55390167236328, 108.31890869140625, 111.15800476074219, 113.29405975341797, 114.92212677001953, 117.22056579589844, 119.08805084228516, 121.55887603759766, 125.0831527709961], \"sizemode\": \"area\", \"sizeref\": 0.4204567337036133, \"symbol\": \"circle\"}, \"mode\": \"markers\", \"name\": \"country=China\", \"showlegend\": true, \"type\": \"scatter\", \"x\": [\"1990\", \"1991\", \"1992\", \"1993\", \"1994\", \"1995\", \"1996\", \"1997\", \"1998\", \"1999\", \"2000\", \"2001\", \"2002\", \"2003\", \"2004\", \"2005\", \"2006\", \"2007\", \"2008\", \"2009\", \"2010\", \"2011\", \"2012\", \"2013\", \"2014\", \"2015\", \"2016\", \"2017\", \"2018\", \"2019\"], \"xaxis\": \"x\", \"y\": [\"2.309\", \"2.14\", \"1.977\", \"1.838\", \"1.731\", \"1.66\", \"1.622\", \"1.605\", \"1.597\", \"1.595\", \"1.596\", \"1.597\", \"1.6\", \"1.604\", \"1.608\", \"1.612\", \"1.615\", \"1.617\", \"1.62\", \"1.623\", \"1.627\", \"1.632\", \"1.639\", \"1.647\", \"1.656\", \"1.665\", \"1.675\", \"1.683\", \"1.69\", \"1.696\"], \"yaxis\": \"y\"}, {\"hoverlabel\": {\"namelength\": 0}, \"hovertemplate\": \"country=Myanmar<br>year=%{x}<br>fertility_rate=%{y}<br>consumer_price_index=%{marker.size}\", \"legendgroup\": \"country=Myanmar\", \"marker\": {\"color\": \"#FF97FF\", \"size\": [1.6798524856567383, 2.221975088119507, 2.708881139755249, 3.5711615085601807, 4.43176794052124, 5.548339366912842, 6.451353549957275, 8.367227554321289, 12.675307273864746, 15.007696151733398, 14.991312980651855, 18.15467643737793, 28.516366958618164, 38.9504280090332, 40.716522216796875, 44.531097412109375, 53.435752868652344, 72.15141296386719, 91.48765563964844, 92.83466339111328, 100.0, 105.0214614868164, 106.56273651123047, 112.57611083984375, 118.15234375, 129.3226776123047, 138.28321838378906, 144.60626220703125, 154.54408264160156, 168.1826934814453], \"sizemode\": \"area\", \"sizeref\": 0.4204567337036133, \"symbol\": \"circle\"}, \"mode\": \"markers\", \"name\": \"country=Myanmar\", \"showlegend\": true, \"type\": \"scatter\", \"x\": [\"1990\", \"1991\", \"1992\", \"1993\", \"1994\", \"1995\", \"1996\", \"1997\", \"1998\", \"1999\", \"2000\", \"2001\", \"2002\", \"2003\", \"2004\", \"2005\", \"2006\", \"2007\", \"2008\", \"2009\", \"2010\", \"2011\", \"2012\", \"2013\", \"2014\", \"2015\", \"2016\", \"2017\", \"2018\", \"2019\"], \"xaxis\": \"x\", \"y\": [\"3.447\", \"3.338\", \"3.244\", \"3.164\", \"3.097\", \"3.042\", \"2.998\", \"2.963\", \"2.933\", \"2.906\", \"2.878\", \"2.845\", \"2.807\", \"2.763\", \"2.713\", \"2.657\", \"2.596\", \"2.533\", \"2.471\", \"2.412\", \"2.359\", \"2.312\", \"2.274\", \"2.242\", \"2.217\", \"2.198\", \"2.182\", \"2.168\", \"2.154\", \"2.138\"], \"yaxis\": \"y\"}],\n",
              "                        {\"legend\": {\"itemsizing\": \"constant\", \"tracegroupgap\": 0}, \"margin\": {\"t\": 60}, \"template\": {\"data\": {\"bar\": [{\"error_x\": {\"color\": \"#2a3f5f\"}, \"error_y\": {\"color\": \"#2a3f5f\"}, \"marker\": {\"line\": {\"color\": \"#E5ECF6\", \"width\": 0.5}}, \"type\": \"bar\"}], \"barpolar\": [{\"marker\": {\"line\": {\"color\": \"#E5ECF6\", \"width\": 0.5}}, \"type\": \"barpolar\"}], \"carpet\": [{\"aaxis\": {\"endlinecolor\": \"#2a3f5f\", \"gridcolor\": \"white\", \"linecolor\": \"white\", \"minorgridcolor\": \"white\", \"startlinecolor\": \"#2a3f5f\"}, \"baxis\": {\"endlinecolor\": \"#2a3f5f\", \"gridcolor\": \"white\", \"linecolor\": \"white\", \"minorgridcolor\": \"white\", \"startlinecolor\": \"#2a3f5f\"}, \"type\": \"carpet\"}], \"choropleth\": [{\"colorbar\": {\"outlinewidth\": 0, \"ticks\": \"\"}, \"type\": \"choropleth\"}], \"contour\": [{\"colorbar\": {\"outlinewidth\": 0, \"ticks\": \"\"}, \"colorscale\": [[0.0, \"#0d0887\"], [0.1111111111111111, \"#46039f\"], [0.2222222222222222, \"#7201a8\"], [0.3333333333333333, \"#9c179e\"], [0.4444444444444444, \"#bd3786\"], [0.5555555555555556, \"#d8576b\"], [0.6666666666666666, \"#ed7953\"], [0.7777777777777778, \"#fb9f3a\"], [0.8888888888888888, \"#fdca26\"], [1.0, \"#f0f921\"]], \"type\": \"contour\"}], \"contourcarpet\": [{\"colorbar\": {\"outlinewidth\": 0, \"ticks\": \"\"}, \"type\": \"contourcarpet\"}], \"heatmap\": [{\"colorbar\": {\"outlinewidth\": 0, \"ticks\": \"\"}, \"colorscale\": [[0.0, \"#0d0887\"], [0.1111111111111111, \"#46039f\"], [0.2222222222222222, \"#7201a8\"], [0.3333333333333333, \"#9c179e\"], [0.4444444444444444, \"#bd3786\"], [0.5555555555555556, \"#d8576b\"], [0.6666666666666666, \"#ed7953\"], [0.7777777777777778, \"#fb9f3a\"], [0.8888888888888888, \"#fdca26\"], [1.0, \"#f0f921\"]], \"type\": \"heatmap\"}], \"heatmapgl\": [{\"colorbar\": {\"outlinewidth\": 0, \"ticks\": \"\"}, \"colorscale\": [[0.0, \"#0d0887\"], [0.1111111111111111, \"#46039f\"], [0.2222222222222222, \"#7201a8\"], [0.3333333333333333, \"#9c179e\"], [0.4444444444444444, \"#bd3786\"], [0.5555555555555556, \"#d8576b\"], [0.6666666666666666, \"#ed7953\"], [0.7777777777777778, \"#fb9f3a\"], [0.8888888888888888, \"#fdca26\"], [1.0, \"#f0f921\"]], \"type\": \"heatmapgl\"}], \"histogram\": [{\"marker\": {\"colorbar\": {\"outlinewidth\": 0, \"ticks\": \"\"}}, \"type\": \"histogram\"}], \"histogram2d\": [{\"colorbar\": {\"outlinewidth\": 0, \"ticks\": \"\"}, \"colorscale\": [[0.0, \"#0d0887\"], [0.1111111111111111, \"#46039f\"], [0.2222222222222222, \"#7201a8\"], [0.3333333333333333, \"#9c179e\"], [0.4444444444444444, \"#bd3786\"], [0.5555555555555556, \"#d8576b\"], [0.6666666666666666, \"#ed7953\"], [0.7777777777777778, \"#fb9f3a\"], [0.8888888888888888, \"#fdca26\"], [1.0, \"#f0f921\"]], \"type\": \"histogram2d\"}], \"histogram2dcontour\": [{\"colorbar\": {\"outlinewidth\": 0, \"ticks\": \"\"}, \"colorscale\": [[0.0, \"#0d0887\"], [0.1111111111111111, \"#46039f\"], [0.2222222222222222, \"#7201a8\"], [0.3333333333333333, \"#9c179e\"], [0.4444444444444444, \"#bd3786\"], [0.5555555555555556, \"#d8576b\"], [0.6666666666666666, \"#ed7953\"], [0.7777777777777778, \"#fb9f3a\"], [0.8888888888888888, \"#fdca26\"], [1.0, \"#f0f921\"]], \"type\": \"histogram2dcontour\"}], \"mesh3d\": [{\"colorbar\": {\"outlinewidth\": 0, \"ticks\": \"\"}, \"type\": \"mesh3d\"}], \"parcoords\": [{\"line\": {\"colorbar\": {\"outlinewidth\": 0, \"ticks\": \"\"}}, \"type\": \"parcoords\"}], \"pie\": [{\"automargin\": true, \"type\": \"pie\"}], \"scatter\": [{\"marker\": {\"colorbar\": {\"outlinewidth\": 0, \"ticks\": \"\"}}, \"type\": \"scatter\"}], \"scatter3d\": [{\"line\": {\"colorbar\": {\"outlinewidth\": 0, \"ticks\": \"\"}}, \"marker\": {\"colorbar\": {\"outlinewidth\": 0, \"ticks\": \"\"}}, \"type\": \"scatter3d\"}], \"scattercarpet\": [{\"marker\": {\"colorbar\": {\"outlinewidth\": 0, \"ticks\": \"\"}}, \"type\": \"scattercarpet\"}], \"scattergeo\": [{\"marker\": {\"colorbar\": {\"outlinewidth\": 0, \"ticks\": \"\"}}, \"type\": \"scattergeo\"}], \"scattergl\": [{\"marker\": {\"colorbar\": {\"outlinewidth\": 0, \"ticks\": \"\"}}, \"type\": \"scattergl\"}], \"scattermapbox\": [{\"marker\": {\"colorbar\": {\"outlinewidth\": 0, \"ticks\": \"\"}}, \"type\": \"scattermapbox\"}], \"scatterpolar\": [{\"marker\": {\"colorbar\": {\"outlinewidth\": 0, \"ticks\": \"\"}}, \"type\": \"scatterpolar\"}], \"scatterpolargl\": [{\"marker\": {\"colorbar\": {\"outlinewidth\": 0, \"ticks\": \"\"}}, \"type\": \"scatterpolargl\"}], \"scatterternary\": [{\"marker\": {\"colorbar\": {\"outlinewidth\": 0, \"ticks\": \"\"}}, \"type\": \"scatterternary\"}], \"surface\": [{\"colorbar\": {\"outlinewidth\": 0, \"ticks\": \"\"}, \"colorscale\": [[0.0, \"#0d0887\"], [0.1111111111111111, \"#46039f\"], [0.2222222222222222, \"#7201a8\"], [0.3333333333333333, \"#9c179e\"], [0.4444444444444444, \"#bd3786\"], [0.5555555555555556, \"#d8576b\"], [0.6666666666666666, \"#ed7953\"], [0.7777777777777778, \"#fb9f3a\"], [0.8888888888888888, \"#fdca26\"], [1.0, \"#f0f921\"]], \"type\": \"surface\"}], \"table\": [{\"cells\": {\"fill\": {\"color\": \"#EBF0F8\"}, \"line\": {\"color\": \"white\"}}, \"header\": {\"fill\": {\"color\": \"#C8D4E3\"}, \"line\": {\"color\": \"white\"}}, \"type\": \"table\"}]}, \"layout\": {\"annotationdefaults\": {\"arrowcolor\": \"#2a3f5f\", \"arrowhead\": 0, \"arrowwidth\": 1}, \"coloraxis\": {\"colorbar\": {\"outlinewidth\": 0, \"ticks\": \"\"}}, \"colorscale\": {\"diverging\": [[0, \"#8e0152\"], [0.1, \"#c51b7d\"], [0.2, \"#de77ae\"], [0.3, \"#f1b6da\"], [0.4, \"#fde0ef\"], [0.5, \"#f7f7f7\"], [0.6, \"#e6f5d0\"], [0.7, \"#b8e186\"], [0.8, \"#7fbc41\"], [0.9, \"#4d9221\"], [1, \"#276419\"]], \"sequential\": [[0.0, \"#0d0887\"], [0.1111111111111111, \"#46039f\"], [0.2222222222222222, \"#7201a8\"], [0.3333333333333333, \"#9c179e\"], [0.4444444444444444, \"#bd3786\"], [0.5555555555555556, \"#d8576b\"], [0.6666666666666666, \"#ed7953\"], [0.7777777777777778, \"#fb9f3a\"], [0.8888888888888888, \"#fdca26\"], [1.0, \"#f0f921\"]], \"sequentialminus\": [[0.0, \"#0d0887\"], [0.1111111111111111, \"#46039f\"], [0.2222222222222222, \"#7201a8\"], [0.3333333333333333, \"#9c179e\"], [0.4444444444444444, \"#bd3786\"], [0.5555555555555556, \"#d8576b\"], [0.6666666666666666, \"#ed7953\"], [0.7777777777777778, \"#fb9f3a\"], [0.8888888888888888, \"#fdca26\"], [1.0, \"#f0f921\"]]}, \"colorway\": [\"#636efa\", \"#EF553B\", \"#00cc96\", \"#ab63fa\", \"#FFA15A\", \"#19d3f3\", \"#FF6692\", \"#B6E880\", \"#FF97FF\", \"#FECB52\"], \"font\": {\"color\": \"#2a3f5f\"}, \"geo\": {\"bgcolor\": \"white\", \"lakecolor\": \"white\", \"landcolor\": \"#E5ECF6\", \"showlakes\": true, \"showland\": true, \"subunitcolor\": \"white\"}, \"hoverlabel\": {\"align\": \"left\"}, \"hovermode\": \"closest\", \"mapbox\": {\"style\": \"light\"}, \"paper_bgcolor\": \"white\", \"plot_bgcolor\": \"#E5ECF6\", \"polar\": {\"angularaxis\": {\"gridcolor\": \"white\", \"linecolor\": \"white\", \"ticks\": \"\"}, \"bgcolor\": \"#E5ECF6\", \"radialaxis\": {\"gridcolor\": \"white\", \"linecolor\": \"white\", \"ticks\": \"\"}}, \"scene\": {\"xaxis\": {\"backgroundcolor\": \"#E5ECF6\", \"gridcolor\": \"white\", \"gridwidth\": 2, \"linecolor\": \"white\", \"showbackground\": true, \"ticks\": \"\", \"zerolinecolor\": \"white\"}, \"yaxis\": {\"backgroundcolor\": \"#E5ECF6\", \"gridcolor\": \"white\", \"gridwidth\": 2, \"linecolor\": \"white\", \"showbackground\": true, \"ticks\": \"\", \"zerolinecolor\": \"white\"}, \"zaxis\": {\"backgroundcolor\": \"#E5ECF6\", \"gridcolor\": \"white\", \"gridwidth\": 2, \"linecolor\": \"white\", \"showbackground\": true, \"ticks\": \"\", \"zerolinecolor\": \"white\"}}, \"shapedefaults\": {\"line\": {\"color\": \"#2a3f5f\"}}, \"ternary\": {\"aaxis\": {\"gridcolor\": \"white\", \"linecolor\": \"white\", \"ticks\": \"\"}, \"baxis\": {\"gridcolor\": \"white\", \"linecolor\": \"white\", \"ticks\": \"\"}, \"bgcolor\": \"#E5ECF6\", \"caxis\": {\"gridcolor\": \"white\", \"linecolor\": \"white\", \"ticks\": \"\"}}, \"title\": {\"x\": 0.05}, \"xaxis\": {\"automargin\": true, \"gridcolor\": \"white\", \"linecolor\": \"white\", \"ticks\": \"\", \"title\": {\"standoff\": 15}, \"zerolinecolor\": \"white\", \"zerolinewidth\": 2}, \"yaxis\": {\"automargin\": true, \"gridcolor\": \"white\", \"linecolor\": \"white\", \"ticks\": \"\", \"title\": {\"standoff\": 15}, \"zerolinecolor\": \"white\", \"zerolinewidth\": 2}}}, \"xaxis\": {\"anchor\": \"y\", \"domain\": [0.0, 1.0], \"title\": {\"text\": \"year\"}}, \"yaxis\": {\"anchor\": \"x\", \"domain\": [0.0, 1.0], \"title\": {\"text\": \"fertility_rate\"}}},\n",
              "                        {\"responsive\": true}\n",
              "                    ).then(function(){\n",
              "                            \n",
              "var gd = document.getElementById('08f74ec8-cfc6-4350-a947-e0b324e26773');\n",
              "var x = new MutationObserver(function (mutations, observer) {{\n",
              "        var display = window.getComputedStyle(gd).display;\n",
              "        if (!display || display === 'none') {{\n",
              "            console.log([gd, 'removed!']);\n",
              "            Plotly.purge(gd);\n",
              "            observer.disconnect();\n",
              "        }}\n",
              "}});\n",
              "\n",
              "// Listen for the removal of the full notebook cells\n",
              "var notebookContainer = gd.closest('#notebook-container');\n",
              "if (notebookContainer) {{\n",
              "    x.observe(notebookContainer, {childList: true});\n",
              "}}\n",
              "\n",
              "// Listen for the clearing of the current output cell\n",
              "var outputEl = gd.closest('.output');\n",
              "if (outputEl) {{\n",
              "    x.observe(outputEl, {childList: true});\n",
              "}}\n",
              "\n",
              "                        })\n",
              "                };\n",
              "                \n",
              "            </script>\n",
              "        </div>\n",
              "</body>\n",
              "</html>"
            ]
          },
          "metadata": {}
        }
      ]
    },
    {
      "cell_type": "code",
      "metadata": {
        "colab": {
          "base_uri": "https://localhost:8080/",
          "height": 542
        },
        "id": "gBmi7nHyOtgT",
        "outputId": "a0d4771a-9f68-4577-e4b2-24cb3ba0d7e3"
      },
      "source": [
        "import plotly.express as px\n",
        "df_sg = df[df['country']=='Singapore']\n",
        "fig = px.scatter(df_sg, x=\"chinese_x_dragon\", y=\"fertility_rate\", color=\"country\",)\n",
        "                 #size='female-labourFrc-percentage', hover_data=['female-labourFrc-percentage'])\n",
        "fig.show()"
      ],
      "execution_count": null,
      "outputs": [
        {
          "output_type": "display_data",
          "data": {
            "text/html": [
              "<html>\n",
              "<head><meta charset=\"utf-8\" /></head>\n",
              "<body>\n",
              "    <div>\n",
              "            <script src=\"https://cdnjs.cloudflare.com/ajax/libs/mathjax/2.7.5/MathJax.js?config=TeX-AMS-MML_SVG\"></script><script type=\"text/javascript\">if (window.MathJax) {MathJax.Hub.Config({SVG: {font: \"STIX-Web\"}});}</script>\n",
              "                <script type=\"text/javascript\">window.PlotlyConfig = {MathJaxConfig: 'local'};</script>\n",
              "        <script src=\"https://cdn.plot.ly/plotly-latest.min.js\"></script>    \n",
              "            <div id=\"2f2f7de0-f2c2-4122-8f60-e449b614c78d\" class=\"plotly-graph-div\" style=\"height:525px; width:100%;\"></div>\n",
              "            <script type=\"text/javascript\">\n",
              "                \n",
              "                    window.PLOTLYENV=window.PLOTLYENV || {};\n",
              "                    \n",
              "                if (document.getElementById(\"2f2f7de0-f2c2-4122-8f60-e449b614c78d\")) {\n",
              "                    Plotly.newPlot(\n",
              "                        '2f2f7de0-f2c2-4122-8f60-e449b614c78d',\n",
              "                        [{\"hoverlabel\": {\"namelength\": 0}, \"hovertemplate\": \"country=Singapore<br>chinese_x_dragon=%{x}<br>fertility_rate=%{y}\", \"legendgroup\": \"country=Singapore\", \"marker\": {\"color\": \"#636efa\", \"symbol\": \"circle\"}, \"mode\": \"markers\", \"name\": \"country=Singapore\", \"showlegend\": true, \"type\": \"scatter\", \"x\": [0, 0, 0, 0, 1, 0, 0, 0, 0, 0, 0, 0, 0, 0, 0, 0, 1, 0, 0, 0, 0, 0, 0, 0, 0, 0, 0, 0, 1, 0, 0, 0, 0, 0, 0, 0, 0, 0, 0, 0, 1, 0, 0, 0, 0, 0, 0, 0, 0, 0, 0, 0, 1, 0, 0, 0, 0, 0, 0, 0], \"xaxis\": \"x\", \"y\": [5.76, 5.41, 5.21, 5.16, 4.97, 4.66, 4.46, 3.91, 3.53, 3.22, 3.07, 3.02, 3.04, 2.79, 2.35, 2.07, 2.11, 1.82, 1.79, 1.79, 1.82, 1.78, 1.74, 1.61, 1.62, 1.61, 1.43, 1.62, 1.96, 1.75, 1.83, 1.73, 1.72, 1.74, 1.71, 1.67, 1.66, 1.61, 1.48, 1.47, 1.6, 1.41, 1.37, 1.27, 1.26, 1.26, 1.28, 1.29, 1.28, 1.22, 1.15, 1.2, 1.29, 1.19, 1.25, 1.24, 1.2, 1.16, 1.14, 1.14], \"yaxis\": \"y\"}],\n",
              "                        {\"legend\": {\"tracegroupgap\": 0}, \"margin\": {\"t\": 60}, \"template\": {\"data\": {\"bar\": [{\"error_x\": {\"color\": \"#2a3f5f\"}, \"error_y\": {\"color\": \"#2a3f5f\"}, \"marker\": {\"line\": {\"color\": \"#E5ECF6\", \"width\": 0.5}}, \"type\": \"bar\"}], \"barpolar\": [{\"marker\": {\"line\": {\"color\": \"#E5ECF6\", \"width\": 0.5}}, \"type\": \"barpolar\"}], \"carpet\": [{\"aaxis\": {\"endlinecolor\": \"#2a3f5f\", \"gridcolor\": \"white\", \"linecolor\": \"white\", \"minorgridcolor\": \"white\", \"startlinecolor\": \"#2a3f5f\"}, \"baxis\": {\"endlinecolor\": \"#2a3f5f\", \"gridcolor\": \"white\", \"linecolor\": \"white\", \"minorgridcolor\": \"white\", \"startlinecolor\": \"#2a3f5f\"}, \"type\": \"carpet\"}], \"choropleth\": [{\"colorbar\": {\"outlinewidth\": 0, \"ticks\": \"\"}, \"type\": \"choropleth\"}], \"contour\": [{\"colorbar\": {\"outlinewidth\": 0, \"ticks\": \"\"}, \"colorscale\": [[0.0, \"#0d0887\"], [0.1111111111111111, \"#46039f\"], [0.2222222222222222, \"#7201a8\"], [0.3333333333333333, \"#9c179e\"], [0.4444444444444444, \"#bd3786\"], [0.5555555555555556, \"#d8576b\"], [0.6666666666666666, \"#ed7953\"], [0.7777777777777778, \"#fb9f3a\"], [0.8888888888888888, \"#fdca26\"], [1.0, \"#f0f921\"]], \"type\": \"contour\"}], \"contourcarpet\": [{\"colorbar\": {\"outlinewidth\": 0, \"ticks\": \"\"}, \"type\": \"contourcarpet\"}], \"heatmap\": [{\"colorbar\": {\"outlinewidth\": 0, \"ticks\": \"\"}, \"colorscale\": [[0.0, \"#0d0887\"], [0.1111111111111111, \"#46039f\"], [0.2222222222222222, \"#7201a8\"], [0.3333333333333333, \"#9c179e\"], [0.4444444444444444, \"#bd3786\"], [0.5555555555555556, \"#d8576b\"], [0.6666666666666666, \"#ed7953\"], [0.7777777777777778, \"#fb9f3a\"], [0.8888888888888888, \"#fdca26\"], [1.0, \"#f0f921\"]], \"type\": \"heatmap\"}], \"heatmapgl\": [{\"colorbar\": {\"outlinewidth\": 0, \"ticks\": \"\"}, \"colorscale\": [[0.0, \"#0d0887\"], [0.1111111111111111, \"#46039f\"], [0.2222222222222222, \"#7201a8\"], [0.3333333333333333, \"#9c179e\"], [0.4444444444444444, \"#bd3786\"], [0.5555555555555556, \"#d8576b\"], [0.6666666666666666, \"#ed7953\"], [0.7777777777777778, \"#fb9f3a\"], [0.8888888888888888, \"#fdca26\"], [1.0, \"#f0f921\"]], \"type\": \"heatmapgl\"}], \"histogram\": [{\"marker\": {\"colorbar\": {\"outlinewidth\": 0, \"ticks\": \"\"}}, \"type\": \"histogram\"}], \"histogram2d\": [{\"colorbar\": {\"outlinewidth\": 0, \"ticks\": \"\"}, \"colorscale\": [[0.0, \"#0d0887\"], [0.1111111111111111, \"#46039f\"], [0.2222222222222222, \"#7201a8\"], [0.3333333333333333, \"#9c179e\"], [0.4444444444444444, \"#bd3786\"], [0.5555555555555556, \"#d8576b\"], [0.6666666666666666, \"#ed7953\"], [0.7777777777777778, \"#fb9f3a\"], [0.8888888888888888, \"#fdca26\"], [1.0, \"#f0f921\"]], \"type\": \"histogram2d\"}], \"histogram2dcontour\": [{\"colorbar\": {\"outlinewidth\": 0, \"ticks\": \"\"}, \"colorscale\": [[0.0, \"#0d0887\"], [0.1111111111111111, \"#46039f\"], [0.2222222222222222, \"#7201a8\"], [0.3333333333333333, \"#9c179e\"], [0.4444444444444444, \"#bd3786\"], [0.5555555555555556, \"#d8576b\"], [0.6666666666666666, \"#ed7953\"], [0.7777777777777778, \"#fb9f3a\"], [0.8888888888888888, \"#fdca26\"], [1.0, \"#f0f921\"]], \"type\": \"histogram2dcontour\"}], \"mesh3d\": [{\"colorbar\": {\"outlinewidth\": 0, \"ticks\": \"\"}, \"type\": \"mesh3d\"}], \"parcoords\": [{\"line\": {\"colorbar\": {\"outlinewidth\": 0, \"ticks\": \"\"}}, \"type\": \"parcoords\"}], \"pie\": [{\"automargin\": true, \"type\": \"pie\"}], \"scatter\": [{\"marker\": {\"colorbar\": {\"outlinewidth\": 0, \"ticks\": \"\"}}, \"type\": \"scatter\"}], \"scatter3d\": [{\"line\": {\"colorbar\": {\"outlinewidth\": 0, \"ticks\": \"\"}}, \"marker\": {\"colorbar\": {\"outlinewidth\": 0, \"ticks\": \"\"}}, \"type\": \"scatter3d\"}], \"scattercarpet\": [{\"marker\": {\"colorbar\": {\"outlinewidth\": 0, \"ticks\": \"\"}}, \"type\": \"scattercarpet\"}], \"scattergeo\": [{\"marker\": {\"colorbar\": {\"outlinewidth\": 0, \"ticks\": \"\"}}, \"type\": \"scattergeo\"}], \"scattergl\": [{\"marker\": {\"colorbar\": {\"outlinewidth\": 0, \"ticks\": \"\"}}, \"type\": \"scattergl\"}], \"scattermapbox\": [{\"marker\": {\"colorbar\": {\"outlinewidth\": 0, \"ticks\": \"\"}}, \"type\": \"scattermapbox\"}], \"scatterpolar\": [{\"marker\": {\"colorbar\": {\"outlinewidth\": 0, \"ticks\": \"\"}}, \"type\": \"scatterpolar\"}], \"scatterpolargl\": [{\"marker\": {\"colorbar\": {\"outlinewidth\": 0, \"ticks\": \"\"}}, \"type\": \"scatterpolargl\"}], \"scatterternary\": [{\"marker\": {\"colorbar\": {\"outlinewidth\": 0, \"ticks\": \"\"}}, \"type\": \"scatterternary\"}], \"surface\": [{\"colorbar\": {\"outlinewidth\": 0, \"ticks\": \"\"}, \"colorscale\": [[0.0, \"#0d0887\"], [0.1111111111111111, \"#46039f\"], [0.2222222222222222, \"#7201a8\"], [0.3333333333333333, \"#9c179e\"], [0.4444444444444444, \"#bd3786\"], [0.5555555555555556, \"#d8576b\"], [0.6666666666666666, \"#ed7953\"], [0.7777777777777778, \"#fb9f3a\"], [0.8888888888888888, \"#fdca26\"], [1.0, \"#f0f921\"]], \"type\": \"surface\"}], \"table\": [{\"cells\": {\"fill\": {\"color\": \"#EBF0F8\"}, \"line\": {\"color\": \"white\"}}, \"header\": {\"fill\": {\"color\": \"#C8D4E3\"}, \"line\": {\"color\": \"white\"}}, \"type\": \"table\"}]}, \"layout\": {\"annotationdefaults\": {\"arrowcolor\": \"#2a3f5f\", \"arrowhead\": 0, \"arrowwidth\": 1}, \"coloraxis\": {\"colorbar\": {\"outlinewidth\": 0, \"ticks\": \"\"}}, \"colorscale\": {\"diverging\": [[0, \"#8e0152\"], [0.1, \"#c51b7d\"], [0.2, \"#de77ae\"], [0.3, \"#f1b6da\"], [0.4, \"#fde0ef\"], [0.5, \"#f7f7f7\"], [0.6, \"#e6f5d0\"], [0.7, \"#b8e186\"], [0.8, \"#7fbc41\"], [0.9, \"#4d9221\"], [1, \"#276419\"]], \"sequential\": [[0.0, \"#0d0887\"], [0.1111111111111111, \"#46039f\"], [0.2222222222222222, \"#7201a8\"], [0.3333333333333333, \"#9c179e\"], [0.4444444444444444, \"#bd3786\"], [0.5555555555555556, \"#d8576b\"], [0.6666666666666666, \"#ed7953\"], [0.7777777777777778, \"#fb9f3a\"], [0.8888888888888888, \"#fdca26\"], [1.0, \"#f0f921\"]], \"sequentialminus\": [[0.0, \"#0d0887\"], [0.1111111111111111, \"#46039f\"], [0.2222222222222222, \"#7201a8\"], [0.3333333333333333, \"#9c179e\"], [0.4444444444444444, \"#bd3786\"], [0.5555555555555556, \"#d8576b\"], [0.6666666666666666, \"#ed7953\"], [0.7777777777777778, \"#fb9f3a\"], [0.8888888888888888, \"#fdca26\"], [1.0, \"#f0f921\"]]}, \"colorway\": [\"#636efa\", \"#EF553B\", \"#00cc96\", \"#ab63fa\", \"#FFA15A\", \"#19d3f3\", \"#FF6692\", \"#B6E880\", \"#FF97FF\", \"#FECB52\"], \"font\": {\"color\": \"#2a3f5f\"}, \"geo\": {\"bgcolor\": \"white\", \"lakecolor\": \"white\", \"landcolor\": \"#E5ECF6\", \"showlakes\": true, \"showland\": true, \"subunitcolor\": \"white\"}, \"hoverlabel\": {\"align\": \"left\"}, \"hovermode\": \"closest\", \"mapbox\": {\"style\": \"light\"}, \"paper_bgcolor\": \"white\", \"plot_bgcolor\": \"#E5ECF6\", \"polar\": {\"angularaxis\": {\"gridcolor\": \"white\", \"linecolor\": \"white\", \"ticks\": \"\"}, \"bgcolor\": \"#E5ECF6\", \"radialaxis\": {\"gridcolor\": \"white\", \"linecolor\": \"white\", \"ticks\": \"\"}}, \"scene\": {\"xaxis\": {\"backgroundcolor\": \"#E5ECF6\", \"gridcolor\": \"white\", \"gridwidth\": 2, \"linecolor\": \"white\", \"showbackground\": true, \"ticks\": \"\", \"zerolinecolor\": \"white\"}, \"yaxis\": {\"backgroundcolor\": \"#E5ECF6\", \"gridcolor\": \"white\", \"gridwidth\": 2, \"linecolor\": \"white\", \"showbackground\": true, \"ticks\": \"\", \"zerolinecolor\": \"white\"}, \"zaxis\": {\"backgroundcolor\": \"#E5ECF6\", \"gridcolor\": \"white\", \"gridwidth\": 2, \"linecolor\": \"white\", \"showbackground\": true, \"ticks\": \"\", \"zerolinecolor\": \"white\"}}, \"shapedefaults\": {\"line\": {\"color\": \"#2a3f5f\"}}, \"ternary\": {\"aaxis\": {\"gridcolor\": \"white\", \"linecolor\": \"white\", \"ticks\": \"\"}, \"baxis\": {\"gridcolor\": \"white\", \"linecolor\": \"white\", \"ticks\": \"\"}, \"bgcolor\": \"#E5ECF6\", \"caxis\": {\"gridcolor\": \"white\", \"linecolor\": \"white\", \"ticks\": \"\"}}, \"title\": {\"x\": 0.05}, \"xaxis\": {\"automargin\": true, \"gridcolor\": \"white\", \"linecolor\": \"white\", \"ticks\": \"\", \"title\": {\"standoff\": 15}, \"zerolinecolor\": \"white\", \"zerolinewidth\": 2}, \"yaxis\": {\"automargin\": true, \"gridcolor\": \"white\", \"linecolor\": \"white\", \"ticks\": \"\", \"title\": {\"standoff\": 15}, \"zerolinecolor\": \"white\", \"zerolinewidth\": 2}}}, \"xaxis\": {\"anchor\": \"y\", \"domain\": [0.0, 1.0], \"title\": {\"text\": \"chinese_x_dragon\"}}, \"yaxis\": {\"anchor\": \"x\", \"domain\": [0.0, 1.0], \"title\": {\"text\": \"fertility_rate\"}}},\n",
              "                        {\"responsive\": true}\n",
              "                    ).then(function(){\n",
              "                            \n",
              "var gd = document.getElementById('2f2f7de0-f2c2-4122-8f60-e449b614c78d');\n",
              "var x = new MutationObserver(function (mutations, observer) {{\n",
              "        var display = window.getComputedStyle(gd).display;\n",
              "        if (!display || display === 'none') {{\n",
              "            console.log([gd, 'removed!']);\n",
              "            Plotly.purge(gd);\n",
              "            observer.disconnect();\n",
              "        }}\n",
              "}});\n",
              "\n",
              "// Listen for the removal of the full notebook cells\n",
              "var notebookContainer = gd.closest('#notebook-container');\n",
              "if (notebookContainer) {{\n",
              "    x.observe(notebookContainer, {childList: true});\n",
              "}}\n",
              "\n",
              "// Listen for the clearing of the current output cell\n",
              "var outputEl = gd.closest('.output');\n",
              "if (outputEl) {{\n",
              "    x.observe(outputEl, {childList: true});\n",
              "}}\n",
              "\n",
              "                        })\n",
              "                };\n",
              "                \n",
              "            </script>\n",
              "        </div>\n",
              "</body>\n",
              "</html>"
            ]
          },
          "metadata": {}
        }
      ]
    },
    {
      "cell_type": "markdown",
      "metadata": {
        "id": "BTGBQ6onYYG4"
      },
      "source": [
        "## 2. Models"
      ]
    },
    {
      "cell_type": "code",
      "metadata": {
        "id": "51Z-hLF5ZK0h"
      },
      "source": [
        "# Use standard errors that are clustered by country\n",
        "# experiment with time and entity fixed effects\n",
        "\n",
        "#%%Model_1\n",
        "#          Fertility_rate_it = A ‘Country-with-chinese-culture_i’ x ‘Dragon-year_t’ +  C ‘consumer-price-index_it’ + err\n",
        "\n",
        "# #%%Model_2\n",
        "#           Fertility_rate_it = B ‘Country-with-chinese-culture_i’ x Tiger-year_t’ + C ‘consumer-price-index_it’ + err\n",
        "\n",
        "# #%%Model_3\n",
        "#           Fertility_rate_it = A ‘Country-with-chinese-culture_i’ x ‘Dragon-year_t’ + B ‘Country-with-chinese-culture_i’ x Tiger-year_t’ + C ‘consumer-price-index_it’ + err"
      ],
      "execution_count": null,
      "outputs": []
    },
    {
      "cell_type": "code",
      "metadata": {
        "id": "uGe1ZjLmWxiv"
      },
      "source": [
        "from google.colab import auth\n",
        "auth.authenticate_user()\n",
        "import gspread\n",
        "from oauth2client.client import GoogleCredentials\n",
        "gc = gspread.authorize(GoogleCredentials.get_application_default())\n",
        "\n",
        "wb = gc.open_by_url('https://docs.google.com/spreadsheets/d/1oQQAU542s8wPHNJNmNBICaMDh75AiXBVPJagODpWz4Q/edit#gid=1250765839')\n",
        "sheet = wb.worksheet('final_dataset')\n",
        "data = sheet.get_all_values()"
      ],
      "execution_count": null,
      "outputs": []
    },
    {
      "cell_type": "code",
      "metadata": {
        "colab": {
          "base_uri": "https://localhost:8080/",
          "height": 418
        },
        "id": "oUnbMYBDW_30",
        "outputId": "2679ac58-07df-453e-ab65-53a20b45394b"
      },
      "source": [
        "import pandas as pd\n",
        "import numpy as np\n",
        "import matplotlib.pyplot as plt\n",
        "df = pd.DataFrame(data)\n",
        "df.columns = df.iloc[0]\n",
        "df = df.iloc[1:]\n",
        "# df[\"year\"] = pd.to_numeric(df[\"year\"])\n",
        "df.replace('', np.nan, inplace=True)\n",
        "df.dropna(inplace=True)\n",
        "df.reset_index(drop=True,inplace=True)\n",
        "df "
      ],
      "execution_count": null,
      "outputs": [
        {
          "output_type": "execute_result",
          "data": {
            "text/html": [
              "<div>\n",
              "<style scoped>\n",
              "    .dataframe tbody tr th:only-of-type {\n",
              "        vertical-align: middle;\n",
              "    }\n",
              "\n",
              "    .dataframe tbody tr th {\n",
              "        vertical-align: top;\n",
              "    }\n",
              "\n",
              "    .dataframe thead th {\n",
              "        text-align: right;\n",
              "    }\n",
              "</style>\n",
              "<table border=\"1\" class=\"dataframe\">\n",
              "  <thead>\n",
              "    <tr style=\"text-align: right;\">\n",
              "      <th></th>\n",
              "      <th>no</th>\n",
              "      <th>country</th>\n",
              "      <th>year</th>\n",
              "      <th>fertility_rate</th>\n",
              "      <th>consumer_price_index</th>\n",
              "      <th>female-labourFrc-percentage</th>\n",
              "      <th>dragon_year</th>\n",
              "      <th>tiger_year</th>\n",
              "      <th>chinese_prominance</th>\n",
              "    </tr>\n",
              "  </thead>\n",
              "  <tbody>\n",
              "    <tr>\n",
              "      <th>0</th>\n",
              "      <td>1</td>\n",
              "      <td>Singapore</td>\n",
              "      <td>1990</td>\n",
              "      <td>1.83</td>\n",
              "      <td>71.8167331</td>\n",
              "      <td>37.5420903</td>\n",
              "      <td>0</td>\n",
              "      <td>0</td>\n",
              "      <td>1</td>\n",
              "    </tr>\n",
              "    <tr>\n",
              "      <th>1</th>\n",
              "      <td>1</td>\n",
              "      <td>Singapore</td>\n",
              "      <td>1991</td>\n",
              "      <td>1.73</td>\n",
              "      <td>74.2769602</td>\n",
              "      <td>37.6152636</td>\n",
              "      <td>0</td>\n",
              "      <td>0</td>\n",
              "      <td>1</td>\n",
              "    </tr>\n",
              "    <tr>\n",
              "      <th>2</th>\n",
              "      <td>1</td>\n",
              "      <td>Singapore</td>\n",
              "      <td>1992</td>\n",
              "      <td>1.72</td>\n",
              "      <td>75.9579006</td>\n",
              "      <td>37.732357</td>\n",
              "      <td>0</td>\n",
              "      <td>0</td>\n",
              "      <td>1</td>\n",
              "    </tr>\n",
              "    <tr>\n",
              "      <th>3</th>\n",
              "      <td>1</td>\n",
              "      <td>Singapore</td>\n",
              "      <td>1993</td>\n",
              "      <td>1.74</td>\n",
              "      <td>77.6968046</td>\n",
              "      <td>38.0359161</td>\n",
              "      <td>0</td>\n",
              "      <td>0</td>\n",
              "      <td>1</td>\n",
              "    </tr>\n",
              "    <tr>\n",
              "      <th>4</th>\n",
              "      <td>1</td>\n",
              "      <td>Singapore</td>\n",
              "      <td>1994</td>\n",
              "      <td>1.71</td>\n",
              "      <td>80.1055086</td>\n",
              "      <td>38.1750817</td>\n",
              "      <td>0</td>\n",
              "      <td>0</td>\n",
              "      <td>1</td>\n",
              "    </tr>\n",
              "    <tr>\n",
              "      <th>...</th>\n",
              "      <td>...</td>\n",
              "      <td>...</td>\n",
              "      <td>...</td>\n",
              "      <td>...</td>\n",
              "      <td>...</td>\n",
              "      <td>...</td>\n",
              "      <td>...</td>\n",
              "      <td>...</td>\n",
              "      <td>...</td>\n",
              "    </tr>\n",
              "    <tr>\n",
              "      <th>265</th>\n",
              "      <td>9</td>\n",
              "      <td>Myanmar</td>\n",
              "      <td>2015</td>\n",
              "      <td>2.198</td>\n",
              "      <td>129.322672</td>\n",
              "      <td>41.6164699</td>\n",
              "      <td>0</td>\n",
              "      <td>0</td>\n",
              "      <td>0</td>\n",
              "    </tr>\n",
              "    <tr>\n",
              "      <th>266</th>\n",
              "      <td>9</td>\n",
              "      <td>Myanmar</td>\n",
              "      <td>2016</td>\n",
              "      <td>2.182</td>\n",
              "      <td>138.283214</td>\n",
              "      <td>41.100912</td>\n",
              "      <td>0</td>\n",
              "      <td>0</td>\n",
              "      <td>0</td>\n",
              "    </tr>\n",
              "    <tr>\n",
              "      <th>267</th>\n",
              "      <td>9</td>\n",
              "      <td>Myanmar</td>\n",
              "      <td>2017</td>\n",
              "      <td>2.168</td>\n",
              "      <td>144.606264</td>\n",
              "      <td>40.5913159</td>\n",
              "      <td>0</td>\n",
              "      <td>0</td>\n",
              "      <td>0</td>\n",
              "    </tr>\n",
              "    <tr>\n",
              "      <th>268</th>\n",
              "      <td>9</td>\n",
              "      <td>Myanmar</td>\n",
              "      <td>2018</td>\n",
              "      <td>2.154</td>\n",
              "      <td>154.544082</td>\n",
              "      <td>41.0267118</td>\n",
              "      <td>0</td>\n",
              "      <td>0</td>\n",
              "      <td>0</td>\n",
              "    </tr>\n",
              "    <tr>\n",
              "      <th>269</th>\n",
              "      <td>9</td>\n",
              "      <td>Myanmar</td>\n",
              "      <td>2019</td>\n",
              "      <td>2.138</td>\n",
              "      <td>168.182701</td>\n",
              "      <td>40.221261</td>\n",
              "      <td>0</td>\n",
              "      <td>0</td>\n",
              "      <td>0</td>\n",
              "    </tr>\n",
              "  </tbody>\n",
              "</table>\n",
              "<p>270 rows × 9 columns</p>\n",
              "</div>"
            ],
            "text/plain": [
              "0   no    country  year  ... dragon_year tiger_year chinese_prominance\n",
              "0    1  Singapore  1990  ...           0          0                  1\n",
              "1    1  Singapore  1991  ...           0          0                  1\n",
              "2    1  Singapore  1992  ...           0          0                  1\n",
              "3    1  Singapore  1993  ...           0          0                  1\n",
              "4    1  Singapore  1994  ...           0          0                  1\n",
              "..  ..        ...   ...  ...         ...        ...                ...\n",
              "265  9    Myanmar  2015  ...           0          0                  0\n",
              "266  9    Myanmar  2016  ...           0          0                  0\n",
              "267  9    Myanmar  2017  ...           0          0                  0\n",
              "268  9    Myanmar  2018  ...           0          0                  0\n",
              "269  9    Myanmar  2019  ...           0          0                  0\n",
              "\n",
              "[270 rows x 9 columns]"
            ]
          },
          "metadata": {},
          "execution_count": 2
        }
      ]
    },
    {
      "cell_type": "code",
      "metadata": {
        "id": "j0OG7OwK6VUX"
      },
      "source": [
        "\n",
        "\n",
        "\n",
        "\n",
        "\n",
        "\n",
        "#%% PP\n",
        "## Final models start here ..."
      ],
      "execution_count": null,
      "outputs": []
    },
    {
      "cell_type": "code",
      "metadata": {
        "id": "jXCjYBQkCfRK"
      },
      "source": [
        "!pip install linearmodels"
      ],
      "execution_count": null,
      "outputs": []
    },
    {
      "cell_type": "code",
      "metadata": {
        "id": "XJDSwNWcX9it"
      },
      "source": [
        "import pandas as pd\n",
        "import statsmodels.formula.api as sm\n",
        "from linearmodels import PanelOLS\n",
        "\n",
        "exceldata = pd.ExcelFile('sample_data/final3.xlsx')\n",
        "df = exceldata.parse('final_dataset')\n",
        "#print(df)\n",
        "\n",
        "df['chinese_x_dragon'] = df['chinese_prominance']*df['dragon_year']\n",
        "df['chinese_x_tiger'] = df['chinese_prominance']*df['tiger_year']\n",
        "df3 = df.set_index(['country', 'year'])"
      ],
      "execution_count": null,
      "outputs": []
    },
    {
      "cell_type": "code",
      "metadata": {
        "id": "ZfSNRyETX-BB"
      },
      "source": [
        ""
      ],
      "execution_count": null,
      "outputs": []
    },
    {
      "cell_type": "markdown",
      "metadata": {
        "id": "zLFXF3BqVUBe"
      },
      "source": [
        "## Model 1\n"
      ]
    },
    {
      "cell_type": "code",
      "metadata": {
        "id": "xwwXJhOYiYd-"
      },
      "source": [
        "model_1_0 = PanelOLS.from_formula('fertility_rate ~ consumer_price_index+EntityEffects',data=df3).fit(cov_type='clustered', cluster_entity=True, cluster_time=True)\n",
        "print(model_1_0)"
      ],
      "execution_count": null,
      "outputs": []
    },
    {
      "cell_type": "code",
      "metadata": {
        "id": "hS1pY2GCLnVU"
      },
      "source": [
        "model_1_1 = PanelOLS.from_formula('fertility_rate ~ dragon_year+tiger_year+consumer_price_index+EntityEffects',data=df3).fit(cov_type='clustered', cluster_entity=True, cluster_time=True)\n",
        "print(model_1_1)"
      ],
      "execution_count": null,
      "outputs": []
    },
    {
      "cell_type": "code",
      "metadata": {
        "id": "jra7cmOWX-e5"
      },
      "source": [
        "model_1_2 = PanelOLS.from_formula('fertility_rate ~ consumer_price_index+dragon_year+tiger_year+chinese_x_tiger+chinese_x_dragon',data=df3).fit(cov_type='clustered', cluster_entity=True, cluster_time=True)\n",
        "print(model_1_2)"
      ],
      "execution_count": null,
      "outputs": []
    },
    {
      "cell_type": "markdown",
      "metadata": {
        "id": "N-ZWnANPnrD_"
      },
      "source": [
        "## Model 2\n"
      ]
    },
    {
      "cell_type": "code",
      "metadata": {
        "id": "7WqVttn6ikm0"
      },
      "source": [
        "model_2_0 = PanelOLS.from_formula('change_in_fertility_rate_subtrt ~ change_in_cons_prc_idx_subtrt+EntityEffects',data=df3).fit(cov_type='clustered', cluster_entity=True, cluster_time=True)\n",
        "print(model_2_0)"
      ],
      "execution_count": null,
      "outputs": []
    },
    {
      "cell_type": "code",
      "metadata": {
        "id": "rmiIeHq-ST-G"
      },
      "source": [
        "model_2_1 = PanelOLS.from_formula('change_in_fertility_rate_subtrt ~ change_in_cons_prc_idx_subtrt+dragon_year+tiger_year+EntityEffects',data=df3).fit(cov_type='clustered', cluster_entity=True, cluster_time=True)\n",
        "print(model_2_1)"
      ],
      "execution_count": null,
      "outputs": []
    },
    {
      "cell_type": "code",
      "metadata": {
        "id": "MEzk_E2W6PYQ"
      },
      "source": [
        "model_2_2 = PanelOLS.from_formula('change_in_fertility_rate_subtrt ~ change_in_cons_prc_idx_subtrt+dragon_year+tiger_year+chinese_x_dragon+chinese_x_tiger+EntityEffects',data=df3,drop_absorbed=True).fit(cov_type='clustered', cluster_entity=True, cluster_time=True)\n",
        "print(model_2_2)"
      ],
      "execution_count": null,
      "outputs": []
    },
    {
      "cell_type": "markdown",
      "metadata": {
        "id": "GJf1E3DZnxjr"
      },
      "source": [
        "## Model 3\n"
      ]
    },
    {
      "cell_type": "code",
      "metadata": {
        "id": "NXTP1sPUiwFG"
      },
      "source": [
        "model_3_0 = PanelOLS.from_formula('change_in_fertility_rate_mvg_avg ~ change_in_cons_prc_idx_mvg_avg+EntityEffects',data=df3).fit(cov_type='clustered', cluster_entity=True, cluster_time=True)\n",
        "print(model_3_0)"
      ],
      "execution_count": null,
      "outputs": []
    },
    {
      "cell_type": "code",
      "metadata": {
        "id": "aONRH9eldGh3"
      },
      "source": [
        "model_3_1 = PanelOLS.from_formula('change_in_fertility_rate_mvg_avg ~ change_in_cons_prc_idx_mvg_avg+dragon_year+tiger_year+EntityEffects',data=df3).fit(cov_type='clustered', cluster_entity=True, cluster_time=True)\n",
        "print(model_3_1)"
      ],
      "execution_count": null,
      "outputs": []
    },
    {
      "cell_type": "code",
      "metadata": {
        "id": "GfVM-4bjdIv0"
      },
      "source": [
        "model_3_2 = PanelOLS.from_formula('change_in_fertility_rate_mvg_avg ~ change_in_cons_prc_idx_mvg_avg+dragon_year+tiger_year+chinese_x_dragon+chinese_x_tiger+EntityEffects',data=df3,drop_absorbed=True).fit(cov_type='clustered', cluster_entity=True, cluster_time=True)\n",
        "print(model_3_2)"
      ],
      "execution_count": null,
      "outputs": []
    }
  ]
}